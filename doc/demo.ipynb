{
 "cells": [
  {
   "cell_type": "markdown",
   "metadata": {},
   "source": [
    "# Pythonによるデモ\n",
    "\n",
    "本稿ではPythonによるシミュレーターの使い方を示す。実際にはPythonのみで書かれた `simulator.py` ではなく、C++拡張ライブラリを用いる。前者は後者に比べて3倍以上遅いので、実装を確認する程度にすることを勧める。\n",
    "\n",
    "## 準備\n",
    "\n",
    "### ダウンロード\n",
    "\n",
    "リポジトリのページの \"Code\" --> \"Download ZIP\" から圧縮ファイルをダウンロードし、それを解凍する。あるいは、`git clone https://github.com/Wandao123/ising_model.git` コマンドを実行する。\n",
    "\n",
    "|![downloading](downloading.png)|\n",
    "|:-:|\n",
    "\n",
    "### Vanilla Python\n",
    "\n",
    "Pythonの処理系は[Windows Store](https://www.microsoft.com/ja-jp/p/python-38/9mssztt1n39l?activetab=pivot:overviewtab)や[公式ページ](https://www.python.org/)からダウンロード・インストールできる。ここでは仮想環境を作成し、そこへpipを用いて必要なライブラリをインストールする。PowerShellあるいはコマンドプロンプトを起動した上で、次のコマンドを実行する。\n",
    "\n",
    "```PowerShell\n",
    "PS> cd ダウンロードしたフォルダ\n",
    "PS> cd python\n",
    "PS> python -m venv env\n",
    "PS> env/Scripts/activate\n",
    "PS> pip install numpy matplotlib multiprocess jupyterlab\n",
    "```\n",
    "\n",
    "### Anaconda\n",
    "\n",
    "一般的な用途ではなく、データ分析や機械学習などに特化してPythonを用いる場合は[Anaconda](https://www.anaconda.com/)を利用する方法もある。Anacondaを利用する場合、必要なライブラリが既にインストールされている筈なので、前節の手順はほぼ不要である。ただ、独自ライブラリのインストールの関係上、仮想環境の作成自体は勧める。Anaconda PowerShell Promptを起動して、次を実行する。\n",
    "\n",
    "```PowerShell\n",
    "PS> conda create -n ising_model\n",
    "PS> conda activate ising_model\n",
    "PS> conda install pip\n",
    "PS> conda install jupyterlab  # Jupyter Labを使う場合。\n",
    "```\n",
    "\n",
    "### C++拡張ライブラリのインストール\n",
    "\n",
    "リポジトリのページの \"Releases\"（「ダウンロード」節の画像を参照）からリリースのページへ移動する。そこで最新版のwheelパッケージをダウンロードする。\n",
    "\n",
    "|![downloading-whl](downloading-whl.png)|\n",
    "|:-:|\n",
    "\n",
    "ダウンロードが完了したら、pipを用いてそのwheelパッケージをインストールする（次の手順では `env/Scripts/activate` あるいは `conda activate ising_model` で既に仮想環境が有向化されているとする）：\n",
    "\n",
    "```PowerShell\n",
    "PS> cd wheelパッケージをダウンロードしたフォルダ\n",
    "PS> pip install simulatorWithCpp-*-*-*-*.whl\n",
    "```\n",
    "\n",
    "ただし、\\* の部分には適当なバージョン名やアーキテクチャ名が入る。\n",
    "\n",
    "## デモンストレーション\n",
    "\n",
    "必要なライブラリの読み込みを行う。"
   ]
  },
  {
   "cell_type": "code",
   "execution_count": null,
   "metadata": {},
   "outputs": [],
   "source": [
    "%matplotlib inline\n",
    "import matplotlib.pyplot as plt\n",
    "import numpy as np\n",
    "import sys\n",
    "sys.path.append('../python')\n",
    "import simulator                      # Pythonのライブラリを使う場合。\n",
    "#import simulatorWithCpp as simulator  # C++拡張ライブラリを使う場合。"
   ]
  },
  {
   "cell_type": "markdown",
   "metadata": {},
   "source": [
    "### 頂点と辺の指定方法\n",
    "\n",
    "グラフ $G=(V, E)$ について、それぞれの集合が\n",
    "\\begin{equation*}\n",
    "    V = \\{\\,0, 1\\,\\}, \\quad E = \\{\\,\\{0, 1\\}\\,\\}\n",
    "\\end{equation*}\n",
    "で与えられたとする。このとき、Hamiltonian関数は\n",
    "\\begin{equation*}\n",
    "    H(\\sigma) = 3 \\sigma_0 \\sigma_1 - \\sigma_0 -2 \\sigma_1\n",
    "\\end{equation*}\n",
    "となる。これを表すコードは次のようになる。ただし、`Write` メソッドはクラスの現在の状態を表示し、`Spins` プロパティは現在のスピン配置を辞書型変数として取得する。"
   ]
  },
  {
   "cell_type": "code",
   "execution_count": null,
   "metadata": {},
   "outputs": [],
   "source": [
    "isingModel = simulator.IsingModel({0: 1.e0, 1: 2.e0}, {(0, 1): 3.e0})\n",
    "isingModel.Write()\n",
    "print()\n",
    "print(isingModel.Spins)"
   ]
  },
  {
   "cell_type": "markdown",
   "metadata": {},
   "source": [
    "一般に、Hamiltonian関数が\n",
    "\\begin{equation*}\n",
    "    H(\\sigma) = -\\sum_{\\{x, y\\}\\in E}J_{x, y} \\sigma_x \\sigma_y - \\sum_{x\\in V} h_x \\sigma_x\n",
    "\\end{equation*}\n",
    "と表されているとする。このシミュレーターでは、IsingModelクラスに外部磁場の強さ $\\{h_x\\}_{x\\in V}$ とスピン-スピン結合係数 $\\{J_{x, y}\\}_{\\{x,y\\}\\in E}$ とをPythonの辞書型変数の形式で渡す。外部磁場の強さは文字列あるいは整数をキーとする辞書である。また、スピン-スピン結合係数は文字列あるいは整数のタプルをキーとする辞書である。このタプルの要素は2つのみであり、かつ `(a, b)` に対して `a < b` でなければならない。何も指定しない場合はそこでの外部磁場の強さやスピン-スピン結合係数が $0$ であるものと解釈される。特に、空の辞書 `{}` を渡した場合は全ての頂点あるいは辺で $0$ になる。\n",
    "\n",
    "**例**&nbsp;(Erdős-Rényiランダムグラフ)&nbsp;辺の生成をプログラムに任せることで、ランダムグラフやスピングラスが生成できる。実行する度にスピン-スピン結合係数の行列が変化することを確認してみよ。"
   ]
  },
  {
   "cell_type": "code",
   "execution_count": null,
   "metadata": {},
   "outputs": [],
   "source": [
    "import random\n",
    "\n",
    "maxNodes = 8\n",
    "probability = 0.5e0\n",
    "quadratic = {(i, j): -1 if random.random() <= probability else 0 for i in range(maxNodes) for j in range(i + 1, maxNodes)}\n",
    "isingModel = simulator.IsingModel({}, quadratic)\n",
    "isingModel.Write()"
   ]
  },
  {
   "cell_type": "markdown",
   "metadata": {},
   "source": [
    "### アニーリング\n",
    "\n",
    "`IsingModel` クラスは `Temperature` プロパティを持つ。その値に応じて、`Update` メソッドによるスピンの更新確率が変化する。ここでは、更新アルゴリズムにGlauber力学を指定した上で、各モンテカルロ・ステップ $n$ で温度を下げてゆく。アニーリング・スケジュールには\n",
    "\\begin{equation*}\n",
    "    T_n = \\frac{T_0}{2 \\log (n + 1) + 1}, \\quad T_0 = 100\n",
    "\\end{equation*}\n",
    "を用いる。"
   ]
  },
  {
   "cell_type": "code",
   "execution_count": null,
   "metadata": {},
   "outputs": [],
   "source": [
    "# 初期化。\n",
    "isingModel = simulator.IsingModel({0: 1.e0, 1: 2.e0}, {(0, 1): 3.e0})\n",
    "isingModel.Algorithm = simulator.Algorithms.Glauber  # 更新アルゴリズムを指定。\n",
    "isingModel.Write()\n",
    "T0 = 10.e0\n",
    "isingModel.Temperature = T0  # 温度の設定。\n",
    "\n",
    "# サンプリング。\n",
    "#samples = np.empty((0, 3), dtype=np.float)  # Numpyを使う場合。若干複雑になるので、最後にPythonのリストを変換する方法も併記している。\n",
    "samples = []\n",
    "for n in range(5000):\n",
    "    isingModel.Temperature = T0 / (np.log(1 + n) + 1.e0)\n",
    "    isingModel.Update()\n",
    "    #samples = np.append(samples, np.array([n, isingModel.Energy, isingModel.Temperature], dtype=np.float).reshape((1, 3)), axis=0)\n",
    "    samples.append([n, isingModel.Energy, isingModel.Temperature])\n",
    "\n",
    "# データの表示。\n",
    "np.set_printoptions(threshold=30)  # 6行のみ表示。\n",
    "output = np.array(samples, dtype=np.float)\n",
    "print(output)"
   ]
  },
  {
   "cell_type": "markdown",
   "metadata": {},
   "source": [
    "最後に出力されたデータの各列はそれぞれ、ステップ数、エネルギー、温度を表す。横軸をステップ数、縦軸をエネルギーとすると、次のグラフを得る。"
   ]
  },
  {
   "cell_type": "code",
   "execution_count": null,
   "metadata": {},
   "outputs": [],
   "source": [
    "x = output[:, 0]  # 0列目を抽出。\n",
    "y = output[:, 1]\n",
    "\n",
    "fig = plt.figure(figsize=(5, 5), dpi=200)\n",
    "ax = fig.add_subplot(111)\n",
    "ax.plot(x, y)"
   ]
  },
  {
   "cell_type": "markdown",
   "metadata": {},
   "source": [
    "同様のことをSCAで行うと次のようになる。"
   ]
  },
  {
   "cell_type": "code",
   "execution_count": null,
   "metadata": {},
   "outputs": [],
   "source": [
    "# 初期化。\n",
    "isingModel.Algorithm = simulator.Algorithms.SCA\n",
    "isingModel.Temperature = T0\n",
    "isingModel.PinningParameter = 3\n",
    "\n",
    "# サンプリング。\n",
    "samples = np.empty((0, 3), dtype=np.float)\n",
    "for n in range(5000):\n",
    "    isingModel.Temperature = T0 / (np.log(1 + n) + 1.e0)\n",
    "    isingModel.Update()\n",
    "    samples = np.append(samples, np.array([n, isingModel.Energy, isingModel.Temperature], dtype=np.float).reshape((1, 3)), axis=0)\n",
    "\n",
    "# データの表示。\n",
    "np.set_printoptions(threshold=30)  # 6行のみ表示。\n",
    "print(samples)\n",
    "\n",
    "# グラフの描画。\n",
    "x = samples[:, 0]\n",
    "y = samples[:, 1]\n",
    "fig = plt.figure(figsize=(5, 5), dpi=200)\n",
    "ax = fig.add_subplot(111)\n",
    "ax.plot(x, y)"
   ]
  },
  {
   "cell_type": "code",
   "execution_count": null,
   "metadata": {},
   "outputs": [],
   "source": []
  }
 ],
 "metadata": {
  "kernelspec": {
   "display_name": "Python 3",
   "language": "python",
   "name": "python3"
  },
  "language_info": {
   "codemirror_mode": {
    "name": "ipython",
    "version": 3
   },
   "file_extension": ".py",
   "mimetype": "text/x-python",
   "name": "python",
   "nbconvert_exporter": "python",
   "pygments_lexer": "ipython3",
   "version": "3.8.3"
  }
 },
 "nbformat": 4,
 "nbformat_minor": 4
}
