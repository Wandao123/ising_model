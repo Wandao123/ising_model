{
 "cells": [
  {
   "cell_type": "markdown",
   "metadata": {},
   "source": [
    "# Experiments"
   ]
  },
  {
   "cell_type": "markdown",
   "metadata": {},
   "source": [
    "## Preliminary\n",
    "\n",
    "In the following, let $G=(V, E)$ be a graph, $P$ denotes the transition probability matrix for each Markov chain, $\\pi$ denotes the stationary distribution with respect to $P$, and $\\sigma, \\tau, \\eta\\in\\{-1, +1\\}^V$.\n",
    "\n",
    "- Hamiltonian on the spin configuration space $\\{\\pm 1\\}^{V}$\n",
    "$$\n",
    "    H(\\sigma)\n",
    "    = -\\sum_{\\{x, y\\}\\in E}J_{x, y} \\sigma_x \\sigma_y - \\sum_{x\\in V} h_x \\sigma_x\n",
    "    = -\\frac{1}{2}\\sum_{x, y\\in V}J_{x, y} \\sigma_x \\sigma_y - \\sum_{x\\in V} h_x \\sigma_x\n",
    "$$\n",
    "- Hamiltonian on $(\\{\\pm 1\\}^{V^\\mathrm{L}}, \\{\\pm 1\\}^{V^\\mathrm{R}})$ of the bipartite graph $(G^\\mathrm{L}, G^\\mathrm{R})$\n",
    "$$\n",
    "    \\tilde H(\\tau, \\sigma) = -\\frac{1}{2}\\sum_{x, y\\in V}J_{x, y} \\tau_x \\sigma_y - \\frac{1}{2}\\sum_{x\\in V} h_x \\left(\\tau_x + \\sigma_x\\right) + \\frac{1}{2}\\sum_{x\\in V}q_x \\left( 1 - \\tau_x \\sigma_x\\right)\n",
    "$$\n",
    "- Cavity field\n",
    "$$\n",
    "    \\tilde h_x(\\sigma) = \\sum_{y\\in V}J_{x, y} \\sigma_y + h_x\n",
    "$$"
   ]
  },
  {
   "cell_type": "markdown",
   "metadata": {},
   "source": [
    "### Importing libraris"
   ]
  },
  {
   "cell_type": "code",
   "execution_count": null,
   "metadata": {},
   "outputs": [],
   "source": [
    "import matplotlib.pyplot as plt\n",
    "import numpy as np\n",
    "from scipy import stats\n",
    "#import sys\n",
    "#sys.path.append('../python')\n",
    "#import simulator\n",
    "import simulatorWithCpp as simulator\n",
    "import math\n",
    "\n",
    "%matplotlib inline\n",
    "np.set_printoptions(threshold=16, edgeitems=8)"
   ]
  },
  {
   "cell_type": "markdown",
   "metadata": {},
   "source": [
    "### Constant numbers (parameters)\n",
    "\n",
    "We fix the parameters:\n",
    "\n",
    "- the number of nodes $= 256$,\n",
    "- the maximum monte carlo steps $= 1000$,\n",
    "- the number of trials of an annealing $= 200$,\n",
    "- the initial spin configuration given uniformly at random by either PCG64 in the Python library or MT19937_64 in the C++ library with the random seed $1024$."
   ]
  },
  {
   "cell_type": "code",
   "execution_count": null,
   "metadata": {},
   "outputs": [],
   "source": [
    "MaxSteps = int(1.e3)\n",
    "MaxTrials = int(2.e2)\n",
    "NumNodes = 256\n",
    "SeedForConfiguration = 1024"
   ]
  },
  {
   "cell_type": "markdown",
   "metadata": {},
   "source": [
    "### Subroutines to sample and draw a graph\n",
    "\n",
    "Note that `Energy` property means the original Hamiltonian for the Metropolis method or the Glauber dynamics, whereas it means the Hamiltonian on the bipartite graph for the SCA, the MA or the MMA."
   ]
  },
  {
   "cell_type": "code",
   "execution_count": null,
   "metadata": {},
   "outputs": [],
   "source": [
    "isingModel = simulator.IsingModel({node: 0.e0 for node in range(NumNodes)}, {})\n",
    "isingModel.SetSeed(SeedForConfiguration)\n",
    "isingModel.GiveSpins(simulator.ConfigurationsType.Uniform)\n",
    "InitialConfiguration = isingModel.Spins\n",
    "\n",
    "def TryExperimentFor(isingModel, initialTemperature):\n",
    "    finalEnergies = np.empty(0, dtype=np.float)\n",
    "    samples = np.empty((0, 3), dtype=np.float)\n",
    "    for i in range(MaxTrials):\n",
    "        isingModel.Spins = InitialConfiguration\n",
    "        isingModel.SetSeed()\n",
    "        if i == 0:\n",
    "            isingModel.Temperature = initialTemperature\n",
    "            isingModel.Write()\n",
    "            print()\n",
    "        for n in range(MaxSteps + 1):\n",
    "            isingModel.Temperature = initialTemperature * 0.99 ** n\n",
    "            #isingModel.Temperature = 100 * np.exp(-0.005 * n)\n",
    "            isingModel.Update()\n",
    "            if i == MaxTrials - 1:\n",
    "                samples = np.append(samples, np.array([n, isingModel.Energy, isingModel.Temperature], dtype=np.float).reshape((1, 3)), axis=0)\n",
    "        finalEnergies = np.append(finalEnergies, isingModel.Energy)\n",
    "        \n",
    "    print('Mean: {}'.format(np.mean(finalEnergies)))\n",
    "    print('Standard deviation: {}'.format(np.std(finalEnergies)))\n",
    "    print('Mode: {}'.format(stats.mode(finalEnergies)))\n",
    "    print('Minimum: {}'.format(np.min(finalEnergies)))\n",
    "\n",
    "    fig = plt.figure(figsize=(7, 3), dpi=200)\n",
    "    ax = fig.add_subplot(121, xlabel='step', ylabel='Energy')\n",
    "    ax.grid()\n",
    "    ax.plot(samples[:, 0], samples[:, 1])\n",
    "    ax = fig.add_subplot(122, xlabel='Energy', ylabel='count')\n",
    "    ax.grid(which='both')\n",
    "    ax.hist(finalEnergies, bins=30)\n",
    "    plt.subplots_adjust(wspace=0.3)\n",
    "    plt.show()"
   ]
  },
  {
   "cell_type": "markdown",
   "metadata": {},
   "source": [
    "## Algorithms"
   ]
  },
  {
   "cell_type": "markdown",
   "metadata": {},
   "source": [
    "### Metropolis method\n",
    "\n",
    "- Stationary distribution\n",
    "$$\n",
    "    \\pi(\\sigma) = \\frac{\\exp\\bigl(-\\beta H(\\sigma)\\bigr)}{\\sum_{\\sigma'}\\exp\\bigl(-\\beta H(\\sigma')\\bigr)}.\n",
    "$$\n",
    "- Transition probability\n",
    "$$\n",
    "    P(\\tau \\mid \\sigma) = \\begin{cases}\n",
    "        \\displaystyle \\frac{1}{\\lvert V\\rvert} \\min\\left\\{1, \\exp\\bigl(-\\beta \\Delta E\\bigr)\\right\\} & [\\tau = \\sigma^x],\\\\\n",
    "        \\displaystyle 1 - \\sum_{x\\in V} P_{\\sigma, \\sigma^x} & [\\tau = \\sigma],\\\\\n",
    "        0 & [\\text{otherwise}],\n",
    "    \\end{cases}\n",
    "$$\n",
    "where $\\Delta E \\equiv H(\\sigma^x) - H(\\sigma) = 2 \\tilde h_x(\\sigma) \\sigma_x$.\n",
    "- Then, the detailed balance condition\n",
    "$$\n",
    "    \\pi(\\sigma) P(\\tau \\mid \\sigma) = \\pi(\\tau) P(\\sigma \\mid \\tau)\n",
    "$$\n",
    "is satisfied."
   ]
  },
  {
   "cell_type": "markdown",
   "metadata": {},
   "source": [
    "### Glauber dynamics\n",
    "\n",
    "- Stationary distribution\n",
    "$$\n",
    "    \\pi(\\sigma) = \\frac{\\exp\\bigl(-\\beta H(\\sigma)\\bigr)}{\\sum_{\\sigma'}\\exp\\bigl(-\\beta H(\\sigma')\\bigr)}.\n",
    "$$\n",
    "- Transition probability\n",
    "$$\n",
    "    P(\\tau \\mid \\sigma) = \\begin{cases}\n",
    "        \\displaystyle \\frac{1}{\\lvert V\\rvert}\\frac{\\exp\\bigl(-\\beta \\tilde h_x(\\sigma) \\sigma_x\\bigr)}{2 \\cosh\\bigl(\\beta \\tilde h_x(\\sigma)\\bigr)} & [\\tau = \\sigma^x],\\\\\n",
    "        \\displaystyle 1 - \\sum_{x\\in V} P_{\\sigma, \\sigma^x} & [\\tau = \\sigma],\\\\\n",
    "        0 & [\\text{otherwise}].\n",
    "    \\end{cases}\n",
    "$$\n",
    "- Then, the detailed balance condition\n",
    "$$\n",
    "    \\pi(\\sigma) P(\\tau \\mid \\sigma) = \\pi(\\tau) P(\\sigma \\mid \\tau)\n",
    "$$\n",
    "is satisfied."
   ]
  },
  {
   "cell_type": "markdown",
   "metadata": {},
   "source": [
    "### Stochastic cellular automata\n",
    "\n",
    "- Stationary distribution on the bipartite graph $(G^\\mathrm{L}, G^\\mathrm{R})$\n",
    "$$\n",
    "    \\pi(\\tau, \\sigma) = \\frac{\\exp\\bigl(-\\beta\\tilde H(\\tau, \\sigma)\\bigr)}{\\sum_{\\tau', \\sigma'}\\exp\\bigl(-\\beta\\tilde H(\\tau', \\sigma')\\bigr)}.\n",
    "$$\n",
    "- Transition probability (Glauber dynamics on the bipartite graph $(G^\\mathrm{L}, G^\\mathrm{R})$)\n",
    "\\begin{align*}\n",
    "    P(\\tau, \\sigma \\mid \\eta, \\sigma) &= \\frac{\\exp\\bigl(-\\beta\\tilde H(\\tau, \\sigma)\\bigr)}{\\sum_{\\tau'}\\exp\\bigl(-\\beta\\tilde H(\\tau', \\sigma)\\bigr)}\\\\\n",
    "    &= \\prod_{x\\in V} \\frac{\\exp\\bigl(-\\beta (\\tilde h_x(\\sigma) + q_x\\sigma_x) \\tau_x / 2\\bigr)}{2\\cosh\\bigl(\\beta (\\tilde h_x(\\sigma) + q_x\\sigma_x) / 2\\bigr)}\\\\\n",
    "    &= \\prod_{x\\in V} \\frac{1}{1 + \\exp\\bigl(-\\beta (\\tilde h_x(\\sigma) + q_x\\sigma_x) \\tau_x\\bigr)}.\n",
    "\\end{align*}\n",
    "- Then, the detailed balance condition\n",
    "$$\n",
    "    \\pi(\\eta, \\sigma) P(\\tau, \\sigma \\mid \\eta, \\sigma) = \\pi(\\tau, \\sigma) P(\\eta, \\sigma \\mid \\tau, \\sigma)\n",
    "$$\n",
    "is satisfied.\n",
    "- Let $L_x\\sim\\mathrm{Logistic}(0, 1)$ for each $x\\in V$ and $T = 1 / \\beta$.  We regard $\\sigma$ as the current spin configuration and $\\tau$ as the next spin configuration in the MCMC updating.  Then, the algorithm is represented by\n",
    "$$\n",
    "    \\DeclareMathOperator{\\sgn}{sgn}\n",
    "    \\tau_x = \\sgn\\left(\\tilde h_x(\\sigma) + q_x\\sigma_x - TL_x\\right).\n",
    "$$"
   ]
  },
  {
   "cell_type": "markdown",
   "metadata": {},
   "source": [
    "### Momentum annealing\n",
    "\n",
    "(In this section, we do not control temperature, so that this MCMC algorithm is not \"annealing\".  However, since the MCMC do not have any name, we call it the \"momentum annealing\" for convinience)\n",
    "\n",
    "- Stationary distribution on the bipartite graph $(G^\\mathrm{L}, G^\\mathrm{R})$\n",
    "$$\n",
    "    \\pi(\\tau, \\sigma) = \\frac{\\exp\\bigl(-\\beta\\tilde H(\\tau, \\sigma)\\bigr)}{\\sum_{\\tau', \\sigma'}\\exp\\bigl(-\\beta\\tilde H(\\tau', \\sigma')\\bigr)}.\n",
    "$$\n",
    "- When we update the spins on $V^\\mathrm{L}$, the energy difference is expressed by\n",
    "\\begin{align*}\n",
    "    \\Delta E &\\equiv \\tilde H(\\tau, \\sigma) - \\tilde H(\\eta, \\sigma)\\\\\n",
    "    &= \\frac{1}{2} \\sum_{x\\in V} \\left(\\tilde h_x(\\sigma) + q_x \\sigma_x\\right) \\left(\\eta_x - \\tau_x\\right)\\\\\n",
    "    &= \\sum_{\\substack{x\\in V\\\\ (\\tau_x = -\\eta_x)}} \\left(\\tilde h_x(\\sigma) + q_x \\sigma_x\\right) \\eta_x\n",
    "\\end{align*}\n",
    "for $\\eta, \\tau\\in\\{-1, +1\\}^{V^\\mathrm{L}}$ and $\\sigma\\in\\{-1, +1\\}^{V^\\mathrm{R}}$.  Let $\\Delta E_x = \\left(\\tilde h_x(\\sigma) + q_x \\sigma_x\\right) \\eta_x$.\n",
    "- Transition probability (Metropolis method on the bipartite graph $(G^\\mathrm{L}, G^\\mathrm{R})$)\n",
    "\\begin{align*}\n",
    "    P(\\tau, \\sigma \\mid \\eta, \\sigma)\n",
    "    &= \\prod_{x\\in V} \\left(\\min\\left\\{1, \\mathrm{e}^{-\\beta \\Delta E_x}\\right\\} \\delta_{\\tau_x, -\\eta_x} + \\left( 1 - \\min\\left\\{1, \\mathrm{e}^{-\\beta \\Delta E_x}\\right\\}\\right) \\delta_{\\tau_x, \\eta_x}\\right)\\\\\n",
    "    &= \\left(\\prod_{\\substack{x\\in V\\\\ (\\tau_x = -\\eta_x)}} \\min\\left\\{1, \\mathrm{e}^{-\\beta \\Delta E_x}\\right\\}\\right)\n",
    "        \\left(\\prod_{\\substack{y\\in V\\\\ (\\tau_y = \\eta_y)}} \\left( 1 - \\min\\left\\{1, \\mathrm{e}^{-\\beta \\Delta E_y}\\right\\}\\right)\\right).\n",
    "\\end{align*}\n",
    "- Then, the detailed balance condition\n",
    "$$\n",
    "    \\pi(\\eta, \\sigma) P(\\tau, \\sigma \\mid \\eta, \\sigma) = \\pi(\\tau, \\sigma) P(\\eta, \\sigma \\mid \\tau, \\sigma)\n",
    "$$\n",
    "is satisfied.\n",
    "- Let $\\varGamma_x\\sim\\mathrm{Exponential}(1)$ for each $x\\in V$ and $T = 1 / \\beta$.  We regard $\\sigma$ as the current spin configuration, $\\tau$ as the next spin configuration and $\\eta$ as the previous spin configuration in the MCMC updating.  Then, the algorithm is represented by\n",
    "$$\n",
    "    \\DeclareMathOperator{\\sgn}{sgn}\n",
    "    \\tau_x = \\sgn\\left(\\tilde h_x(\\sigma) + q_x\\sigma_x - T\\varGamma_x\\eta_x\\right).\n",
    "$$"
   ]
  },
  {
   "cell_type": "markdown",
   "metadata": {},
   "source": [
    "### Modified momentum annealing\n",
    "\n",
    "- Let $\\varGamma_x\\sim\\mathrm{Exponential}(1)$ for each $x\\in V$ and $T = 1 / \\beta$.  We regard $\\sigma$ as the current spin configuration and $\\tau$ as the next spin configuration in the MCMC updating.  Then, the algorithm is represented by\n",
    "$$\n",
    "    \\DeclareMathOperator{\\sgn}{sgn}\n",
    "    \\tau_x = \\sgn\\left(\\tilde h_x(\\sigma) + q_x\\sigma_x - T\\varGamma_x\\sigma_x\\right).\n",
    "$$"
   ]
  },
  {
   "cell_type": "markdown",
   "metadata": {},
   "source": [
    "### Annealing schedule\n",
    "\n",
    "For $n=\\mathbb{N}\\cup\\{0\\}$,\n",
    "$$\n",
    "    T_n = T_0 \\cdot 0.99^n.\n",
    "    %T_n = 100 \\cdot \\mathrm{e}^{-0.005 n}.\n",
    "$$"
   ]
  },
  {
   "cell_type": "markdown",
   "metadata": {},
   "source": [
    "## Square lattice\n",
    "\n",
    "Our experiment runs under the conditions:\n",
    "\n",
    "- no external magnetic field,\n",
    "- antiferromagnet,\n",
    "- the free boundary condition."
   ]
  },
  {
   "cell_type": "code",
   "execution_count": null,
   "metadata": {},
   "outputs": [],
   "source": [
    "def GenerateSquareLatticeEdges(numNodes):\n",
    "    columns = math.ceil(math.sqrt(numNodes))\n",
    "    result = {}\n",
    "    for i in range(numNodes - 1):\n",
    "        if (i + 1) % columns > 0:\n",
    "            result[(i, i + 1)] = -1\n",
    "        if (i + columns) < numNodes:\n",
    "            result[(i, i + columns)] = -1\n",
    "    return result"
   ]
  },
  {
   "cell_type": "code",
   "execution_count": null,
   "metadata": {},
   "outputs": [],
   "source": [
    "# Test for the function GenerateSquareLatticeEdges.\n",
    "for i in range(16):\n",
    "    if i != 0 and i % 4 == 0:\n",
    "        print()\n",
    "    print('{:3d}'.format(i), end='')\n",
    "print('\\n')\n",
    "quadratic = GenerateSquareLatticeEdges(16)\n",
    "print(quadratic)\n",
    "print('\\n')\n",
    "isingModel = simulator.IsingModel({}, quadratic)\n",
    "isingModel.Write()"
   ]
  },
  {
   "cell_type": "code",
   "execution_count": null,
   "metadata": {},
   "outputs": [],
   "source": [
    "# Actual simulation.\n",
    "quadratic = GenerateSquareLatticeEdges(NumNodes)\n",
    "isingModel = simulator.IsingModel({}, quadratic)\n",
    "T0 = 2.e0 * np.sum([np.abs(J) for J in quadratic.values()])"
   ]
  },
  {
   "cell_type": "markdown",
   "metadata": {},
   "source": [
    "### Metropolis method"
   ]
  },
  {
   "cell_type": "code",
   "execution_count": null,
   "metadata": {},
   "outputs": [],
   "source": [
    "isingModel.Algorithm = simulator.Algorithms.Metropolis\n",
    "TryExperimentFor(isingModel, T0)"
   ]
  },
  {
   "cell_type": "markdown",
   "metadata": {},
   "source": [
    "### Glauber dynamics"
   ]
  },
  {
   "cell_type": "code",
   "execution_count": null,
   "metadata": {},
   "outputs": [],
   "source": [
    "isingModel.Algorithm = simulator.Algorithms.Glauber\n",
    "TryExperimentFor(isingModel, T0)"
   ]
  },
  {
   "cell_type": "markdown",
   "metadata": {},
   "source": [
    "### Stochastic cellular automata"
   ]
  },
  {
   "cell_type": "code",
   "execution_count": null,
   "metadata": {},
   "outputs": [],
   "source": [
    "isingModel.Algorithm = simulator.Algorithms.SCA\n",
    "isingModel.PinningParameter = 0.5e0 * isingModel.CalcLargestEigenvalue()\n",
    "TryExperimentFor(isingModel, T0 + NumNodes * isingModel.PinningParameter)"
   ]
  },
  {
   "cell_type": "markdown",
   "metadata": {},
   "source": [
    "### Momentum annealing"
   ]
  },
  {
   "cell_type": "code",
   "execution_count": null,
   "metadata": {},
   "outputs": [],
   "source": [
    "isingModel.Algorithm = simulator.Algorithms.MA\n",
    "isingModel.PinningParameter = 0.5e0 * isingModel.CalcLargestEigenvalue()\n",
    "TryExperimentFor(isingModel, T0 + NumNodes * isingModel.PinningParameter)"
   ]
  },
  {
   "cell_type": "markdown",
   "metadata": {},
   "source": [
    "### Modified momentum annealing"
   ]
  },
  {
   "cell_type": "code",
   "execution_count": null,
   "metadata": {},
   "outputs": [],
   "source": [
    "isingModel.Algorithm = simulator.Algorithms.MMA\n",
    "isingModel.PinningParameter = isingModel.CalcLargestEigenvalue()\n",
    "TryExperimentFor(isingModel, T0 + NumNodes * isingModel.PinningParameter)"
   ]
  },
  {
   "cell_type": "markdown",
   "metadata": {},
   "source": [
    "## Complete graph\n",
    "\n",
    "Our experiment runs under the conditions:\n",
    "\n",
    "- no external magnetic field,\n",
    "- antiferromagnet."
   ]
  },
  {
   "cell_type": "code",
   "execution_count": null,
   "metadata": {},
   "outputs": [],
   "source": [
    "def GenerateCompleteGraphEdges(numNodes):\n",
    "    return {(i, j): -1 for i in range(numNodes) for j in range(i + 1, numNodes)}\n",
    "\n",
    "quadratic = GenerateCompleteGraphEdges(NumNodes)\n",
    "isingModel = simulator.IsingModel({}, quadratic)\n",
    "T0 = 2.e0 * np.sum([np.abs(J) for J in quadratic.values()])"
   ]
  },
  {
   "cell_type": "markdown",
   "metadata": {},
   "source": [
    "### Metropolis method"
   ]
  },
  {
   "cell_type": "code",
   "execution_count": null,
   "metadata": {},
   "outputs": [],
   "source": [
    "isingModel.Algorithm = simulator.Algorithms.Metropolis\n",
    "TryExperimentFor(isingModel, T0)"
   ]
  },
  {
   "cell_type": "markdown",
   "metadata": {},
   "source": [
    "### Glauber dynamics"
   ]
  },
  {
   "cell_type": "code",
   "execution_count": null,
   "metadata": {},
   "outputs": [],
   "source": [
    "isingModel.Algorithm = simulator.Algorithms.Glauber\n",
    "TryExperimentFor(isingModel, T0)"
   ]
  },
  {
   "cell_type": "markdown",
   "metadata": {},
   "source": [
    "### Stochastic cellular automata"
   ]
  },
  {
   "cell_type": "code",
   "execution_count": null,
   "metadata": {},
   "outputs": [],
   "source": [
    "isingModel.Algorithm = simulator.Algorithms.SCA\n",
    "isingModel.PinningParameter = 0.5e0 * isingModel.CalcLargestEigenvalue()\n",
    "TryExperimentFor(isingModel, T0 + NumNodes * isingModel.PinningParameter)"
   ]
  },
  {
   "cell_type": "markdown",
   "metadata": {},
   "source": [
    "### Momentum annealing"
   ]
  },
  {
   "cell_type": "code",
   "execution_count": null,
   "metadata": {},
   "outputs": [],
   "source": [
    "isingModel.Algorithm = simulator.Algorithms.MA\n",
    "isingModel.PinningParameter = 0.5e0 * isingModel.CalcLargestEigenvalue()\n",
    "TryExperimentFor(isingModel, T0 + NumNodes * isingModel.PinningParameter)"
   ]
  },
  {
   "cell_type": "markdown",
   "metadata": {},
   "source": [
    "### Modified momentum annealing"
   ]
  },
  {
   "cell_type": "code",
   "execution_count": null,
   "metadata": {},
   "outputs": [],
   "source": [
    "isingModel.Algorithm = simulator.Algorithms.MMA\n",
    "isingModel.PinningParameter = isingModel.CalcLargestEigenvalue()\n",
    "TryExperimentFor(isingModel, T0 + NumNodes * isingModel.PinningParameter)"
   ]
  },
  {
   "cell_type": "markdown",
   "metadata": {},
   "source": [
    "## Erdős-Rényi random graph\n",
    "\n",
    "Our experiment runs under the conditions:\n",
    "\n",
    "- no external magnetic field,\n",
    "- antiferromagnet,\n",
    "- the occupation probability $=0.5$,\n",
    "- Bernoulli random numbers given by MT19937 with the random seed $2048$."
   ]
  },
  {
   "cell_type": "code",
   "execution_count": null,
   "metadata": {},
   "outputs": [],
   "source": [
    "OccupationProbability = 0.5e0\n",
    "SeedForRandomGraph = 2048\n",
    "\n",
    "def GenerateErdosRenyiEdges(numNodes, probability):\n",
    "    rng = np.random.Generator(np.random.MT19937(SeedForRandomGraph))\n",
    "    return {(i, j): -1 if rng.random() <= probability else 0 for i in range(numNodes) for j in range(i + 1, numNodes)}\n",
    "\n",
    "quadratic = GenerateErdosRenyiEdges(NumNodes, OccupationProbability)\n",
    "isingModel = simulator.IsingModel({}, quadratic)\n",
    "T0 = 2.e0 * np.sum([np.abs(J) for J in quadratic.values()])"
   ]
  },
  {
   "cell_type": "markdown",
   "metadata": {},
   "source": [
    "### Metropolis method"
   ]
  },
  {
   "cell_type": "code",
   "execution_count": null,
   "metadata": {},
   "outputs": [],
   "source": [
    "isingModel.Algorithm = simulator.Algorithms.Metropolis\n",
    "TryExperimentFor(isingModel, T0)"
   ]
  },
  {
   "cell_type": "markdown",
   "metadata": {},
   "source": [
    "### Glauber dynamics"
   ]
  },
  {
   "cell_type": "code",
   "execution_count": null,
   "metadata": {},
   "outputs": [],
   "source": [
    "isingModel.Algorithm = simulator.Algorithms.Glauber\n",
    "TryExperimentFor(isingModel, T0)"
   ]
  },
  {
   "cell_type": "markdown",
   "metadata": {},
   "source": [
    "### Stochastic cellular automata"
   ]
  },
  {
   "cell_type": "code",
   "execution_count": null,
   "metadata": {},
   "outputs": [],
   "source": [
    "isingModel.Algorithm = simulator.Algorithms.SCA\n",
    "isingModel.PinningParameter = 0.5e0 * isingModel.CalcLargestEigenvalue()\n",
    "TryExperimentFor(isingModel, T0 + NumNodes * isingModel.PinningParameter)"
   ]
  },
  {
   "cell_type": "markdown",
   "metadata": {},
   "source": [
    "### Momentum annealing"
   ]
  },
  {
   "cell_type": "code",
   "execution_count": null,
   "metadata": {},
   "outputs": [],
   "source": [
    "isingModel.Algorithm = simulator.Algorithms.MA\n",
    "isingModel.PinningParameter = 0.5e0 * isingModel.CalcLargestEigenvalue()\n",
    "TryExperimentFor(isingModel, T0 + NumNodes * isingModel.PinningParameter)"
   ]
  },
  {
   "cell_type": "markdown",
   "metadata": {},
   "source": [
    "### Modified momentum annealing"
   ]
  },
  {
   "cell_type": "code",
   "execution_count": null,
   "metadata": {},
   "outputs": [],
   "source": [
    "isingModel.Algorithm = simulator.Algorithms.MMA\n",
    "isingModel.PinningParameter = isingModel.CalcLargestEigenvalue()\n",
    "TryExperimentFor(isingModel, T0 + NumNodes * isingModel.PinningParameter)"
   ]
  },
  {
   "cell_type": "code",
   "execution_count": null,
   "metadata": {},
   "outputs": [],
   "source": []
  }
 ],
 "metadata": {
  "kernelspec": {
   "display_name": "Python 3",
   "language": "python",
   "name": "python3"
  },
  "language_info": {
   "codemirror_mode": {
    "name": "ipython",
    "version": 3
   },
   "file_extension": ".py",
   "mimetype": "text/x-python",
   "name": "python",
   "nbconvert_exporter": "python",
   "pygments_lexer": "ipython3",
   "version": "3.8.4"
  },
  "toc-autonumbering": false,
  "toc-showcode": false,
  "toc-showmarkdowntxt": false,
  "toc-showtags": false
 },
 "nbformat": 4,
 "nbformat_minor": 4
}
