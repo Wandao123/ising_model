{
 "cells": [
  {
   "cell_type": "markdown",
   "metadata": {},
   "source": [
    "# Flip-contrained SCA\n",
    "\n",
    "For SCA dynamics, we plot a sample of the modified Hamiltonian in \"Step-Energy graph\".  For flip-constrained SCA dynamics, we plot a sample of the (original) Hamiltonian in \"Step-Energy graph\"."
   ]
  },
  {
   "cell_type": "code",
   "execution_count": null,
   "metadata": {},
   "outputs": [],
   "source": [
    "import matplotlib.pyplot as plt\n",
    "import numpy as np\n",
    "from scipy import stats\n",
    "#import sys\n",
    "#sys.path.append('../python')\n",
    "#import simulator\n",
    "import simulatorWithCpp as simulator\n",
    "import math\n",
    "\n",
    "%matplotlib inline\n",
    "np.set_printoptions(threshold=16, edgeitems=8)"
   ]
  },
  {
   "cell_type": "markdown",
   "metadata": {},
   "source": [
    "## Annealing"
   ]
  },
  {
   "cell_type": "code",
   "execution_count": null,
   "metadata": {},
   "outputs": [],
   "source": [
    "MaxSteps = int(3.e3)\n",
    "MaxTrials = int(1.e1)\n",
    "NumNodes = 256\n",
    "SeedForConfiguration = 1024"
   ]
  },
  {
   "cell_type": "code",
   "execution_count": null,
   "metadata": {},
   "outputs": [],
   "source": [
    "isingModel = simulator.IsingModel({node: 0.e0 for node in range(NumNodes)}, {})\n",
    "isingModel.SetSeed(SeedForConfiguration)\n",
    "isingModel.GiveSpins(simulator.ConfigurationsType.Uniform)\n",
    "InitialConfiguration = isingModel.Spins\n",
    "\n",
    "def TryExperimentFor(isingModel, initialTemperature):\n",
    "    minimumEnergiesData = np.empty(0, dtype=np.float)\n",
    "    samples = np.empty((MaxSteps + 1, 4), dtype=np.float)\n",
    "    #isingModel.Write()\n",
    "    for i in range(MaxTrials):\n",
    "        isingModel.Spins = InitialConfiguration\n",
    "        isingModel.SetSeed()\n",
    "        for n in range(MaxSteps + 1):\n",
    "            isingModel.Temperature = initialTemperature * 0.99 ** n\n",
    "            #isingModel.Temperature = 100 * np.exp(-0.005 * n)\n",
    "            isingModel.Update()\n",
    "            samples[n, 0] = n\n",
    "            samples[n, 1] = isingModel.Temperature\n",
    "            samples[n, 2] = isingModel.Energy\n",
    "            samples[n, 3] = isingModel.EnergyOnBipartiteGraph\n",
    "        minimumEnergiesData = np.append(minimumEnergiesData, samples[:, 2].min())\n",
    "\n",
    "    print('Mean: {}'.format(np.mean(minimumEnergiesData)))\n",
    "    print('Standard deviation: {}'.format(np.std(minimumEnergiesData)))\n",
    "    print('Mode: {}'.format(stats.mode(minimumEnergiesData)))\n",
    "    print('Minimum: {}'.format(np.min(minimumEnergiesData)))\n",
    "\n",
    "    fig = plt.figure(figsize=(7, 3), dpi=200)\n",
    "    ax = fig.add_subplot(121, xlabel='MC steps', ylabel='Energy')\n",
    "    ax.grid()\n",
    "    ax.plot(samples[:, 0], samples[:, 2], label='Original Hamiltonian')\n",
    "    ax.plot(samples[:, 0], samples[:, 3], label='Double Hamiltonian')\n",
    "    ax.legend()\n",
    "    ax = fig.add_subplot(122, xlabel='Energy', ylabel='Frequency')\n",
    "    ax.grid(which='both')\n",
    "    ax.hist(minimumEnergiesData, bins=30)\n",
    "    fig.suptitle(isingModel.Algorithm.name)\n",
    "    plt.subplots_adjust(wspace=0.3)\n",
    "    plt.show()"
   ]
  },
  {
   "cell_type": "code",
   "execution_count": null,
   "metadata": {},
   "outputs": [],
   "source": [
    "def GenerateSquareLatticeEdges(numNodes):\n",
    "    columns = math.ceil(math.sqrt(numNodes))\n",
    "    result = {}\n",
    "    for i in range(numNodes - 1):\n",
    "        if (i + 1) % columns > 0:\n",
    "            result[(i, i + 1)] = -1\n",
    "        if (i + columns) < numNodes:\n",
    "            result[(i, i + columns)] = -1\n",
    "    return result\n",
    "\n",
    "quadratic = GenerateSquareLatticeEdges(NumNodes)\n",
    "isingModel = simulator.IsingModel({}, quadratic)\n",
    "T0 = 2.e0 * np.sum([np.abs(J) for J in quadratic.values()])"
   ]
  },
  {
   "cell_type": "code",
   "execution_count": null,
   "metadata": {},
   "outputs": [],
   "source": [
    "isingModel.Algorithm = simulator.Algorithms.SCA\n",
    "isingModel.PinningParameter = 0.5e0 * isingModel.CalcLargestEigenvalue()\n",
    "TryExperimentFor(isingModel, T0 + NumNodes * isingModel.PinningParameter)"
   ]
  },
  {
   "cell_type": "code",
   "execution_count": null,
   "metadata": {},
   "outputs": [],
   "source": [
    "isingModel.Algorithm = simulator.Algorithms.fcSCA\n",
    "isingModel.PinningParameter = 0.125e0 * isingModel.CalcLargestEigenvalue()\n",
    "isingModel.FlipTrialRate = 0.8e0\n",
    "TryExperimentFor(isingModel, T0 + NumNodes * isingModel.PinningParameter)"
   ]
  },
  {
   "cell_type": "code",
   "execution_count": null,
   "metadata": {},
   "outputs": [],
   "source": [
    "def GenerateCompleteGraphEdges(numNodes):\n",
    "    return {(i, j): -1 for i in range(numNodes) for j in range(i + 1, numNodes)}\n",
    "\n",
    "quadratic = GenerateCompleteGraphEdges(NumNodes)\n",
    "isingModel = simulator.IsingModel({}, quadratic)\n",
    "T0 = 2.e0 * np.sum([np.abs(J) for J in quadratic.values()])"
   ]
  },
  {
   "cell_type": "code",
   "execution_count": null,
   "metadata": {},
   "outputs": [],
   "source": [
    "isingModel.Algorithm = simulator.Algorithms.SCA\n",
    "isingModel.PinningParameter = 0.5e0 * isingModel.CalcLargestEigenvalue()\n",
    "TryExperimentFor(isingModel, T0 + NumNodes * isingModel.PinningParameter)"
   ]
  },
  {
   "cell_type": "code",
   "execution_count": null,
   "metadata": {},
   "outputs": [],
   "source": [
    "isingModel.Algorithm = simulator.Algorithms.fcSCA\n",
    "#isingModel.PinningParameter = 0.125e0 * isingModel.CalcLargestEigenvalue()\n",
    "isingModel.FlipTrialRate = 0.3e0\n",
    "TryExperimentFor(isingModel, T0 + NumNodes * isingModel.PinningParameter)"
   ]
  },
  {
   "cell_type": "code",
   "execution_count": null,
   "metadata": {},
   "outputs": [],
   "source": [
    "OccupationProbability = 0.5e0\n",
    "SeedForRandomGraph = 2048\n",
    "\n",
    "def GenerateErdosRenyiEdges(numNodes, probability):\n",
    "    rng = np.random.Generator(np.random.MT19937(SeedForRandomGraph))\n",
    "    return {(i, j): -1 if rng.random() <= probability else 0 for i in range(numNodes) for j in range(i + 1, numNodes)}\n",
    "\n",
    "quadratic = GenerateErdosRenyiEdges(NumNodes, OccupationProbability)\n",
    "isingModel = simulator.IsingModel({}, quadratic)\n",
    "T0 = 2.e0 * np.sum([np.abs(J) for J in quadratic.values()])"
   ]
  },
  {
   "cell_type": "code",
   "execution_count": null,
   "metadata": {},
   "outputs": [],
   "source": [
    "isingModel.Algorithm = simulator.Algorithms.SCA\n",
    "isingModel.PinningParameter = 0.5e0 * isingModel.CalcLargestEigenvalue()\n",
    "TryExperimentFor(isingModel, T0 + NumNodes * isingModel.PinningParameter)"
   ]
  },
  {
   "cell_type": "code",
   "execution_count": null,
   "metadata": {},
   "outputs": [],
   "source": [
    "isingModel.Algorithm = simulator.Algorithms.fcSCA\n",
    "isingModel.PinningParameter = 0.e0\n",
    "isingModel.FlipTrialRate = 0.2e0\n",
    "TryExperimentFor(isingModel, T0 + NumNodes * isingModel.PinningParameter)"
   ]
  },
  {
   "cell_type": "markdown",
   "metadata": {},
   "source": [
    "## Stationary distribution"
   ]
  },
  {
   "cell_type": "markdown",
   "metadata": {},
   "source": [
    "## Dynamics for the propotion to spins"
   ]
  },
  {
   "cell_type": "markdown",
   "metadata": {},
   "source": [
    "Consider the antiferromagnet $J_{x, y} = -1$ with $h_x = 0$ and $q_x = 0$ on a complete graph.\n",
    "Taking the low temerature limit,\n",
    "$$\n",
    "    \\lim_{\\beta\\uparrow\\infty} P_\\epsilon(\\sigma, \\tau)\n",
    "    = \\prod_{x\\in D_{\\sigma, \\tau}} \\left(\\epsilon \\left(\\frac{1}{2} \\mathbf{1}_{\\{\\sum_{y\\sim x} \\sigma_x \\sigma_y = 0\\}} + \\mathbf{1}_{\\{\\sum_{y\\sim x} \\sigma_x \\sigma_y > 0\\}}\\right)\\right)\n",
    "        \\prod_{x\\in D_{\\sigma, \\tau}^\\complement} \\left(1 - \\epsilon \\left(\\frac{1}{2} \\mathbf{1}_{\\{\\sum_{y\\sim x} \\sigma_x \\sigma_y = 0\\}} + \\mathbf{1}_{\\{\\sum_{y\\sim x} \\sigma_x \\sigma_y > 0\\}}\\right)\\right).\n",
    "$$\n",
    "Let $a_t$ be the proportion of up spins to all spins.\n",
    "When $\\lvert V\\rvert$ is even, he dynamics of $\\{a_t\\}_{t=0}^{\\infty}$ is given as\n",
    "$$\n",
    "    a_{t+1} = \\begin{cases}\n",
    "        \\epsilon + \\left(1 - \\epsilon\\right) a_t & \\left[0 \\leq a_t < \\frac{1}{2}\\right],\\\\\n",
    "        a_t & \\left[a_t = \\frac{1}{2}\\right],\\\\\n",
    "        \\left(1 - \\epsilon\\right) a_t & \\left[\\frac{1}{2} < a_t \\leq 1\\right].\n",
    "    \\end{cases}\n",
    "$$\n",
    "When $\\lvert V\\rvert$ is odd, he dynamics of $\\{a_t\\}_{t=0}^{\\infty}$ is given as\n",
    "$$\n",
    "    a_{t+1} = \\begin{cases}\n",
    "        \\left(1 - \\frac{\\epsilon}{2}\\right) a_t & \\left[\\frac{1}{2} \\leq a_t \\leq \\frac{1}{2} \\left(1 + \\frac{1}{\\lvert V\\rvert}\\right)\\right],\\\\\n",
    "        \\left(1 - \\epsilon\\right) a_t & \\left[\\frac{1}{2} \\left(1 + \\frac{1}{\\lvert V\\rvert}\\right) < a_t \\leq 1\\right],\\\\\n",
    "        \\frac{\\epsilon}{2} + \\left(1 - \\frac{\\epsilon}{2}\\right) a_t & \\left[\\frac{1}{2} \\left(1 - \\frac{1}{\\lvert V\\rvert}\\right) \\leq a_t < \\frac{1}{2}\\right],\\\\\n",
    "        \\epsilon + \\left(1 - \\epsilon\\right) a_t & \\left[0 \\leq a_t < \\frac{1}{2} \\left(1 - \\frac{1}{\\lvert V\\rvert}\\right)\\right].\n",
    "    \\end{cases}\n",
    "$$"
   ]
  },
  {
   "cell_type": "code",
   "execution_count": null,
   "metadata": {},
   "outputs": [],
   "source": [
    "def spinPropotion(previous, flipTrialRate, cardVertices):\n",
    "    if cardVertices % 2 == 0:\n",
    "        if 0 <= previous < 0.5e0:\n",
    "            return flipTrialRate + (1 - flipTrialRate) * previous\n",
    "        elif previous == 0.5e0:\n",
    "            return previous\n",
    "        elif 0.5e0 < previous <= 1:\n",
    "            return (1 - flipTrialRate) * previous\n",
    "        else:\n",
    "            raise ValueError('The value must be in the interval [0, 1]')\n",
    "    else:\n",
    "        if 0 <= previous < 0.5e0 * (1 - 1 / cardVertices):\n",
    "            return flipTrialRate + (1 - flipTrialRate) * previous\n",
    "        elif 0.5e0 * (1 - 1 / cardVertices) <= previous < 0.5e0:\n",
    "            return 0.5e0 * flipTrialRate + (1 - 0.5e0 * flipTrialRate) * previous\n",
    "        elif 0.5e0 <= previous <= 0.5e0 * (1 + 1 / cardVertices):\n",
    "            return (1 - 0.5e0 * flipTrialRate) * previous\n",
    "        elif 0.5e0 * (1 + 1 / cardVertices) < previous <= 1:\n",
    "            return (1 - flipTrialRate) * previous\n",
    "        else:\n",
    "            raise ValueError('The value must be in the interval [0, 1]')"
   ]
  },
  {
   "cell_type": "markdown",
   "metadata": {},
   "source": [
    "The horizontal axis means initial values $a_0$."
   ]
  },
  {
   "cell_type": "code",
   "execution_count": null,
   "metadata": {},
   "outputs": [],
   "source": [
    "# Fixed points.\n",
    "from itertools import product\n",
    "\n",
    "NumDivision = 100\n",
    "\n",
    "fig = plt.figure(figsize=(17, 7), dpi=100)\n",
    "plt.subplots_adjust(wspace=0.3, hspace=0.3)\n",
    "index = 0\n",
    "for cardVertices, flipTrialRate in product((10, 11), np.linspace(0, 1, 5)):\n",
    "    # Time evolution\n",
    "    uSpinPropotion = np.frompyfunc(lambda x: spinPropotion(x, flipTrialRate, cardVertices), 1, 1)\n",
    "    x = np.linspace(0, 1, NumDivision)\n",
    "    y = uSpinPropotion(x)\n",
    "    for _ in range(NumDivision):\n",
    "        try:\n",
    "            y = uSpinPropotion(y)\n",
    "        except ValueError:\n",
    "            print(y)\n",
    "            break\n",
    "\n",
    "    # Plotting\n",
    "    index += 1\n",
    "    ax = fig.add_subplot(2, 5, index)\n",
    "    ax.grid()\n",
    "    ax.plot(x, x, color='gray', linestyle='dashed')\n",
    "    ax.plot(x, uSpinPropotion(x), label='a(1)')\n",
    "    ax.plot(x, y, label='a(t)')\n",
    "    nextY = uSpinPropotion(y)\n",
    "    ax.plot(x, nextY, label='a(t+1)')\n",
    "    ax.set_title('ε={:8.4f}'.format(flipTrialRate) + ', |V|={:d}'.format(cardVertices))\n",
    "    ax.legend()\n",
    "plt.show()"
   ]
  },
  {
   "cell_type": "code",
   "execution_count": null,
   "metadata": {},
   "outputs": [],
   "source": [
    "%%time\n",
    "# Bifurcation diagram.\n",
    "from functools import reduce\n",
    "\n",
    "NumDivision = 400\n",
    "MaxSteps = 200\n",
    "\n",
    "def calcFixedPoints(flipTrialRate, cardVertices):\n",
    "    def inner(initialValue):\n",
    "        result = []\n",
    "        propotion = initialValue\n",
    "        for i in range(MaxSteps // 2):\n",
    "            propotion = spinPropotion(propotion, flipTrialRate, cardVertices)\n",
    "        for i in range(MaxSteps // 2, MaxSteps):\n",
    "            propotion = spinPropotion(propotion, flipTrialRate, cardVertices)\n",
    "            result.append(propotion)\n",
    "        return np.array(result, dtype=np.float)\n",
    "    \n",
    "    fixedPoints = np.empty(0, dtype=np.float)\n",
    "    initialValues = np.linspace(0, 1, NumDivision)\n",
    "    fixedPoints = reduce(np.union1d, np.frompyfunc(inner, 1, 1)(initialValues))\n",
    "    return fixedPoints\n",
    "\n",
    "fig = plt.figure(figsize=(7, 3), dpi=200)\n",
    "plt.subplots_adjust(wspace=0.3)\n",
    "for index, cardVertices in enumerate((10, 11), 1):\n",
    "    # Computation\n",
    "    x = np.linspace(0, 1, NumDivision)\n",
    "    y = np.frompyfunc(lambda r: calcFixedPoints(r, cardVertices), 1, 1)(x)  # This function returns a jagged array.\n",
    "    \n",
    "    # Plotting\n",
    "    ax = fig.add_subplot(1, 2, index)\n",
    "    ax.grid()\n",
    "    ax.set_xlabel('Flip trial rate')\n",
    "    ax.set_ylabel('Fixed point')\n",
    "    ax.set_title('|V|={:d}'.format(cardVertices))\n",
    "    for i in range(x.size):\n",
    "        ax.plot(np.full_like(y[i], x[i]), y[i], ',m')\n",
    "plt.show()"
   ]
  },
  {
   "cell_type": "code",
   "execution_count": null,
   "metadata": {},
   "outputs": [],
   "source": []
  }
 ],
 "metadata": {
  "kernelspec": {
   "display_name": "Python 3",
   "language": "python",
   "name": "python3"
  },
  "language_info": {
   "codemirror_mode": {
    "name": "ipython",
    "version": 3
   },
   "file_extension": ".py",
   "mimetype": "text/x-python",
   "name": "python",
   "nbconvert_exporter": "python",
   "pygments_lexer": "ipython3",
   "version": "3.9.2"
  }
 },
 "nbformat": 4,
 "nbformat_minor": 5
}
