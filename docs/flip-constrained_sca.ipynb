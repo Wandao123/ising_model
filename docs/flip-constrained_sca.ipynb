{
 "cells": [
  {
   "cell_type": "markdown",
   "metadata": {},
   "source": [
    "# Flip-contrained SCA\n",
    "\n",
    "For SCA dynamics, we plot a sample of the modified Hamiltonian in \"Step-Energy graph\".  For flip-constrained SCA dynamics, we plot a sample of the (original) Hamiltonian in \"Step-Energy graph\"."
   ]
  },
  {
   "cell_type": "markdown",
   "metadata": {},
   "source": [
    "## Annealing"
   ]
  },
  {
   "cell_type": "code",
   "execution_count": null,
   "metadata": {},
   "outputs": [],
   "source": [
    "import matplotlib.pyplot as plt\n",
    "import numpy as np\n",
    "from scipy import stats\n",
    "#import sys\n",
    "#sys.path.append('../python')\n",
    "#import simulator\n",
    "import simulatorWithCpp as simulator\n",
    "import math\n",
    "\n",
    "%matplotlib inline\n",
    "np.set_printoptions(threshold=16, edgeitems=8)"
   ]
  },
  {
   "cell_type": "code",
   "execution_count": null,
   "metadata": {},
   "outputs": [],
   "source": [
    "MaxSteps = int(3.e3)\n",
    "MaxTrials = int(1.e1)\n",
    "NumNodes = 256\n",
    "SeedForConfiguration = 1024"
   ]
  },
  {
   "cell_type": "code",
   "execution_count": null,
   "metadata": {},
   "outputs": [],
   "source": [
    "isingModel = simulator.IsingModel({node: 0.e0 for node in range(NumNodes)}, {})\n",
    "isingModel.SetSeed(SeedForConfiguration)\n",
    "isingModel.GiveSpins(simulator.ConfigurationsType.Uniform)\n",
    "InitialConfiguration = isingModel.Spins\n",
    "\n",
    "def TryExperimentFor(isingModel, initialTemperature):\n",
    "    minimumEnergiesData = np.empty(0, dtype=np.float)\n",
    "    samples = np.empty((MaxSteps + 1, 4), dtype=np.float)\n",
    "    #isingModel.Write()\n",
    "    for i in range(MaxTrials):\n",
    "        isingModel.Spins = InitialConfiguration\n",
    "        isingModel.SetSeed()\n",
    "        for n in range(MaxSteps + 1):\n",
    "            isingModel.Temperature = initialTemperature * 0.99 ** n\n",
    "            #isingModel.Temperature = 100 * np.exp(-0.005 * n)\n",
    "            isingModel.Update()\n",
    "            samples[n, 0] = n\n",
    "            samples[n, 1] = isingModel.Temperature\n",
    "            samples[n, 2] = isingModel.Energy\n",
    "            samples[n, 3] = isingModel.EnergyOnBipartiteGraph\n",
    "        minimumEnergiesData = np.append(minimumEnergiesData, samples[:, 2].min())\n",
    "\n",
    "    print('Mean: {}'.format(np.mean(minimumEnergiesData)))\n",
    "    print('Standard deviation: {}'.format(np.std(minimumEnergiesData)))\n",
    "    print('Mode: {}'.format(stats.mode(minimumEnergiesData)))\n",
    "    print('Minimum: {}'.format(np.min(minimumEnergiesData)))\n",
    "\n",
    "    fig = plt.figure(figsize=(7, 3), dpi=200)\n",
    "    ax = fig.add_subplot(121, xlabel='MC steps', ylabel='Energy')\n",
    "    ax.grid()\n",
    "    ax.plot(samples[:, 0], samples[:, 2], label='Original Hamiltonian')\n",
    "    ax.plot(samples[:, 0], samples[:, 3], label='Double Hamiltonian')\n",
    "    ax.legend()\n",
    "    ax = fig.add_subplot(122, xlabel='Energy', ylabel='Frequency')\n",
    "    ax.grid(which='both')\n",
    "    ax.hist(minimumEnergiesData, bins=30)\n",
    "    fig.suptitle(isingModel.Algorithm.name)\n",
    "    plt.subplots_adjust(wspace=0.3)\n",
    "    plt.show()"
   ]
  },
  {
   "cell_type": "code",
   "execution_count": null,
   "metadata": {},
   "outputs": [],
   "source": [
    "def GenerateSquareLatticeEdges(numNodes):\n",
    "    columns = math.ceil(math.sqrt(numNodes))\n",
    "    result = {}\n",
    "    for i in range(numNodes - 1):\n",
    "        if (i + 1) % columns > 0:\n",
    "            result[(i, i + 1)] = -1\n",
    "        if (i + columns) < numNodes:\n",
    "            result[(i, i + columns)] = -1\n",
    "    return result\n",
    "\n",
    "quadratic = GenerateSquareLatticeEdges(NumNodes)\n",
    "isingModel = simulator.IsingModel({}, quadratic)\n",
    "T0 = 2.e0 * np.sum([np.abs(J) for J in quadratic.values()])"
   ]
  },
  {
   "cell_type": "code",
   "execution_count": null,
   "metadata": {},
   "outputs": [],
   "source": [
    "isingModel.Algorithm = simulator.Algorithms.SCA\n",
    "isingModel.PinningParameter = 0.5e0 * isingModel.CalcLargestEigenvalue()\n",
    "TryExperimentFor(isingModel, T0 + NumNodes * isingModel.PinningParameter)"
   ]
  },
  {
   "cell_type": "code",
   "execution_count": null,
   "metadata": {},
   "outputs": [],
   "source": [
    "isingModel.Algorithm = simulator.Algorithms.fcSCA\n",
    "isingModel.PinningParameter = 0.125e0 * isingModel.CalcLargestEigenvalue()\n",
    "isingModel.FlipTrialRate = 0.8e0\n",
    "TryExperimentFor(isingModel, T0 + NumNodes * isingModel.PinningParameter)"
   ]
  },
  {
   "cell_type": "code",
   "execution_count": null,
   "metadata": {},
   "outputs": [],
   "source": [
    "def GenerateCompleteGraphEdges(numNodes):\n",
    "    return {(i, j): -1 for i in range(numNodes) for j in range(i + 1, numNodes)}\n",
    "\n",
    "quadratic = GenerateCompleteGraphEdges(NumNodes)\n",
    "isingModel = simulator.IsingModel({}, quadratic)\n",
    "T0 = 2.e0 * np.sum([np.abs(J) for J in quadratic.values()])"
   ]
  },
  {
   "cell_type": "code",
   "execution_count": null,
   "metadata": {},
   "outputs": [],
   "source": [
    "isingModel.Algorithm = simulator.Algorithms.SCA\n",
    "isingModel.PinningParameter = 0.5e0 * isingModel.CalcLargestEigenvalue()\n",
    "TryExperimentFor(isingModel, T0 + NumNodes * isingModel.PinningParameter)"
   ]
  },
  {
   "cell_type": "code",
   "execution_count": null,
   "metadata": {},
   "outputs": [],
   "source": [
    "isingModel.Algorithm = simulator.Algorithms.fcSCA\n",
    "#isingModel.PinningParameter = 0.125e0 * isingModel.CalcLargestEigenvalue()\n",
    "isingModel.FlipTrialRate = 0.3e0\n",
    "TryExperimentFor(isingModel, T0 + NumNodes * isingModel.PinningParameter)"
   ]
  },
  {
   "cell_type": "code",
   "execution_count": null,
   "metadata": {},
   "outputs": [],
   "source": [
    "OccupationProbability = 0.5e0\n",
    "SeedForRandomGraph = 2048\n",
    "\n",
    "def GenerateErdosRenyiEdges(numNodes, probability):\n",
    "    rng = np.random.Generator(np.random.MT19937(SeedForRandomGraph))\n",
    "    return {(i, j): -1 if rng.random() <= probability else 0 for i in range(numNodes) for j in range(i + 1, numNodes)}\n",
    "\n",
    "quadratic = GenerateErdosRenyiEdges(NumNodes, OccupationProbability)\n",
    "isingModel = simulator.IsingModel({}, quadratic)\n",
    "T0 = 2.e0 * np.sum([np.abs(J) for J in quadratic.values()])"
   ]
  },
  {
   "cell_type": "code",
   "execution_count": null,
   "metadata": {},
   "outputs": [],
   "source": [
    "isingModel.Algorithm = simulator.Algorithms.SCA\n",
    "isingModel.PinningParameter = 0.5e0 * isingModel.CalcLargestEigenvalue()\n",
    "TryExperimentFor(isingModel, T0 + NumNodes * isingModel.PinningParameter)"
   ]
  },
  {
   "cell_type": "code",
   "execution_count": null,
   "metadata": {},
   "outputs": [],
   "source": [
    "isingModel.Algorithm = simulator.Algorithms.fcSCA\n",
    "isingModel.PinningParameter = 0.e0\n",
    "isingModel.FlipTrialRate = 0.2e0\n",
    "TryExperimentFor(isingModel, T0 + NumNodes * isingModel.PinningParameter)"
   ]
  },
  {
   "cell_type": "markdown",
   "metadata": {},
   "source": [
    "## Dynamics for the propotion to spins"
   ]
  },
  {
   "cell_type": "markdown",
   "metadata": {},
   "source": [
    "Consider the antiferromagnet $J_{x, y} = -1$ with $h_x = 0$ and $q_x = 0$ on a complete graph.\n",
    "Taking the low temerature limit,\n",
    "$$\n",
    "    \\lim_{\\beta\\uparrow\\infty} P_\\epsilon(\\sigma, \\tau)\n",
    "    = \\prod_{x\\in D_{\\sigma, \\tau}} \\left(\\epsilon \\left(\\frac{1}{2} \\mathbf{1}_{\\{\\sum_{y\\sim x} \\sigma_x \\sigma_y = 0\\}} + \\mathbf{1}_{\\{\\sum_{y\\sim x} \\sigma_x \\sigma_y > 0\\}}\\right)\\right)\n",
    "        \\prod_{x\\in D_{\\sigma, \\tau}^\\complement} \\left(1 - \\epsilon \\left(\\frac{1}{2} \\mathbf{1}_{\\{\\sum_{y\\sim x} \\sigma_x \\sigma_y = 0\\}} + \\mathbf{1}_{\\{\\sum_{y\\sim x} \\sigma_x \\sigma_y > 0\\}}\\right)\\right).\n",
    "$$\n",
    "Let $a_t$ be the proportion of up spins to all spins.\n",
    "The dynamics of $\\{a_t\\}_{t=0}^{\\infty}$ is given as\n",
    "$$\n",
    "    a_{t+1} = \\begin{cases}\n",
    "        \\left(1 - \\frac{\\epsilon}{2}\\right) a_t & \\left[\\frac{1}{2} < a_t \\leq \\frac{1}{2} \\left(1 + \\frac{1}{\\lvert V\\rvert}\\right)\\right],\\\\\n",
    "        \\left(1 - \\epsilon\\right) a_t & \\left[\\frac{1}{2} \\left(1 + \\frac{1}{\\lvert V\\rvert}\\right) < a_t < 1\\right],\\\\\n",
    "        \\frac{\\epsilon}{2} + \\left(1 - \\frac{\\epsilon}{2}\\right) a_t & \\left[\\frac{1}{2} \\left(1 - \\frac{1}{\\lvert V\\rvert}\\right) \\leq a_t < \\frac{1}{2}\\right],\\\\\n",
    "        \\epsilon + \\left(1 - \\epsilon\\right) a_t & \\left[0 < a_t < \\frac{1}{2} \\left(1 - \\frac{1}{\\lvert V\\rvert}\\right)\\right].\n",
    "    \\end{cases}\n",
    "$$"
   ]
  },
  {
   "cell_type": "code",
   "execution_count": null,
   "metadata": {},
   "outputs": [],
   "source": [
    "flipTrialRate = 0.6e0\n",
    "cardVertices = 10\n",
    "\n",
    "def spinPropotion(previous):\n",
    "    if 0 <= previous < 0.5e0 * (1 - 1 / cardVertices):\n",
    "        return flipTrialRate + (1 - flipTrialRate) * previous\n",
    "    elif 0.5e0 * (1 - 1 / cardVertices) <= previous < 0.5e0:\n",
    "        return 0.5e0 * flipTrialRate + (1 - 0.5e0 * flipTrialRate) * previous\n",
    "    elif 0.5e0 < previous <= 0.5e0 * (1 + 1 / cardVertices):\n",
    "        return (1 - 0.5e0 * flipTrialRate) * previous\n",
    "    elif 0.5e0 * (1 + 1 / cardVertices) < previous <= 1:\n",
    "        return (1 - flipTrialRate) * previous\n",
    "    else:\n",
    "        raise ValueError('The value must be in the interval [0, 1]')\n",
    "\n",
    "uSpinPropotion = np.frompyfunc(spinPropotion, 1, 1)"
   ]
  },
  {
   "cell_type": "code",
   "execution_count": null,
   "metadata": {},
   "outputs": [],
   "source": [
    "x = np.linspace(0, 1, 100)\n",
    "y = uSpinPropotion(x)\n",
    "\n",
    "for i in range(100):\n",
    "    y = uSpinPropotion(y)\n",
    "\n",
    "plt.plot(x, y)\n",
    "plt.plot(x, uSpinPropotion(y))\n",
    "plt.xlabel('Up spin propotion')\n",
    "plt.ylabel('Next propotion')\n",
    "plt.grid()\n",
    "plt.show()"
   ]
  },
  {
   "cell_type": "code",
   "execution_count": null,
   "metadata": {},
   "outputs": [],
   "source": []
  }
 ],
 "metadata": {
  "kernelspec": {
   "display_name": "Python 3",
   "language": "python",
   "name": "python3"
  },
  "language_info": {
   "codemirror_mode": {
    "name": "ipython",
    "version": 3
   },
   "file_extension": ".py",
   "mimetype": "text/x-python",
   "name": "python",
   "nbconvert_exporter": "python",
   "pygments_lexer": "ipython3",
   "version": "3.9.2"
  }
 },
 "nbformat": 4,
 "nbformat_minor": 5
}
