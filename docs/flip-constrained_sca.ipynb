{
 "cells": [
  {
   "cell_type": "markdown",
   "id": "acute-resource",
   "metadata": {},
   "source": [
    "# Flip-contrained SCA\n",
    "\n",
    "For SCA dynamics, we plot a sample of the modified Hamiltonian in \"Step-Energy graph\".  For flip-constrained SCA dynamics, we plot a sample of the (original) Hamiltonian in \"Step-Energy graph\"."
   ]
  },
  {
   "cell_type": "code",
   "execution_count": null,
   "id": "pursuant-davis",
   "metadata": {},
   "outputs": [],
   "source": [
    "import matplotlib.pyplot as plt\n",
    "import numpy as np\n",
    "from scipy import stats\n",
    "#import sys\n",
    "#sys.path.append('../python')\n",
    "#import simulator\n",
    "import simulatorWithCpp as simulator\n",
    "import math\n",
    "\n",
    "%matplotlib inline\n",
    "np.set_printoptions(threshold=16, edgeitems=8)"
   ]
  },
  {
   "cell_type": "code",
   "execution_count": null,
   "id": "moved-economy",
   "metadata": {},
   "outputs": [],
   "source": [
    "MaxSteps = int(1.e3)\n",
    "MaxTrials = int(1.e2)\n",
    "NumNodes = 256\n",
    "SeedForConfiguration = 1024"
   ]
  },
  {
   "cell_type": "code",
   "execution_count": null,
   "id": "charming-celtic",
   "metadata": {},
   "outputs": [],
   "source": [
    "isingModel = simulator.IsingModel({node: 0.e0 for node in range(NumNodes)}, {})\n",
    "isingModel.SetSeed(SeedForConfiguration)\n",
    "isingModel.GiveSpins(simulator.ConfigurationsType.Uniform)\n",
    "InitialConfiguration = isingModel.Spins\n",
    "\n",
    "def TryExperimentFor(isingModel, initialTemperature):\n",
    "    minimumEnergiesData = np.empty(0, dtype=np.float)\n",
    "    samples = np.empty((MaxSteps + 1, 3), dtype=np.float)\n",
    "    #isingModel.Write()\n",
    "    for i in range(MaxTrials):\n",
    "        isingModel.Spins = InitialConfiguration\n",
    "        isingModel.SetSeed()\n",
    "        for n in range(MaxSteps + 1):\n",
    "            isingModel.Temperature = initialTemperature * 0.99 ** n\n",
    "            #isingModel.Temperature = 100 * np.exp(-0.005 * n)\n",
    "            isingModel.Update()\n",
    "            samples[n, 0] = n\n",
    "            samples[n, 1] = isingModel.Energy\n",
    "            samples[n, 2] = isingModel.Temperature\n",
    "        minimumEnergiesData = np.append(minimumEnergiesData, samples.min())\n",
    "\n",
    "    print('Mean: {}'.format(np.mean(minimumEnergiesData)))\n",
    "    print('Standard deviation: {}'.format(np.std(minimumEnergiesData)))\n",
    "    print('Mode: {}'.format(stats.mode(minimumEnergiesData)))\n",
    "    print('Minimum: {}'.format(np.min(minimumEnergiesData)))\n",
    "\n",
    "    fig = plt.figure(figsize=(7, 3), dpi=200)\n",
    "    ax = fig.add_subplot(121, xlabel='step', ylabel='Energy')\n",
    "    ax.grid()\n",
    "    ax.plot(samples[:, 0], samples[:, 1])\n",
    "    ax = fig.add_subplot(122, xlabel='Energy', ylabel='Frequency')\n",
    "    ax.grid(which='both')\n",
    "    ax.hist(minimumEnergiesData, bins=30)\n",
    "    fig.suptitle(isingModel.Algorithm.name)\n",
    "    plt.subplots_adjust(wspace=0.3)\n",
    "    plt.show()"
   ]
  },
  {
   "cell_type": "code",
   "execution_count": null,
   "id": "interim-photography",
   "metadata": {},
   "outputs": [],
   "source": [
    "def GenerateSquareLatticeEdges(numNodes):\n",
    "    columns = math.ceil(math.sqrt(numNodes))\n",
    "    result = {}\n",
    "    for i in range(numNodes - 1):\n",
    "        if (i + 1) % columns > 0:\n",
    "            result[(i, i + 1)] = -1\n",
    "        if (i + columns) < numNodes:\n",
    "            result[(i, i + columns)] = -1\n",
    "    return result\n",
    "\n",
    "quadratic = GenerateSquareLatticeEdges(NumNodes)\n",
    "isingModel = simulator.IsingModel({}, quadratic)\n",
    "T0 = 2.e0 * np.sum([np.abs(J) for J in quadratic.values()])"
   ]
  },
  {
   "cell_type": "code",
   "execution_count": null,
   "id": "bored-shift",
   "metadata": {},
   "outputs": [],
   "source": [
    "isingModel.Algorithm = simulator.Algorithms.SCA\n",
    "isingModel.PinningParameter = 0.5e0 * isingModel.CalcLargestEigenvalue()\n",
    "TryExperimentFor(isingModel, T0 + NumNodes * isingModel.PinningParameter)"
   ]
  },
  {
   "cell_type": "code",
   "execution_count": null,
   "id": "informed-brazil",
   "metadata": {},
   "outputs": [],
   "source": [
    "isingModel.Algorithm = simulator.Algorithms.fcSCA\n",
    "isingModel.PinningParameter = 0.e0\n",
    "isingModel.FlipTrialRate = 0.8e0\n",
    "TryExperimentFor(isingModel, T0 + NumNodes * isingModel.PinningParameter)"
   ]
  },
  {
   "cell_type": "code",
   "execution_count": null,
   "id": "exposed-oklahoma",
   "metadata": {},
   "outputs": [],
   "source": [
    "def GenerateCompleteGraphEdges(numNodes):\n",
    "    return {(i, j): -1 for i in range(numNodes) for j in range(i + 1, numNodes)}\n",
    "\n",
    "quadratic = GenerateCompleteGraphEdges(NumNodes)\n",
    "isingModel = simulator.IsingModel({}, quadratic)\n",
    "T0 = 2.e0 * np.sum([np.abs(J) for J in quadratic.values()])"
   ]
  },
  {
   "cell_type": "code",
   "execution_count": null,
   "id": "addressed-level",
   "metadata": {},
   "outputs": [],
   "source": [
    "isingModel.Algorithm = simulator.Algorithms.SCA\n",
    "isingModel.PinningParameter = 0.5e0 * isingModel.CalcLargestEigenvalue()\n",
    "TryExperimentFor(isingModel, T0 + NumNodes * isingModel.PinningParameter)"
   ]
  },
  {
   "cell_type": "code",
   "execution_count": null,
   "id": "deluxe-links",
   "metadata": {},
   "outputs": [],
   "source": [
    "isingModel.Algorithm = simulator.Algorithms.fcSCA\n",
    "isingModel.PinningParameter = 0.e0\n",
    "isingModel.FlipTrialRate = 0.8e0\n",
    "TryExperimentFor(isingModel, T0 + NumNodes * isingModel.PinningParameter)"
   ]
  },
  {
   "cell_type": "code",
   "execution_count": null,
   "id": "perceived-wayne",
   "metadata": {},
   "outputs": [],
   "source": [
    "OccupationProbability = 0.5e0\n",
    "SeedForRandomGraph = 2048\n",
    "\n",
    "def GenerateErdosRenyiEdges(numNodes, probability):\n",
    "    rng = np.random.Generator(np.random.MT19937(SeedForRandomGraph))\n",
    "    return {(i, j): -1 if rng.random() <= probability else 0 for i in range(numNodes) for j in range(i + 1, numNodes)}\n",
    "\n",
    "quadratic = GenerateErdosRenyiEdges(NumNodes, OccupationProbability)\n",
    "isingModel = simulator.IsingModel({}, quadratic)\n",
    "T0 = 2.e0 * np.sum([np.abs(J) for J in quadratic.values()])"
   ]
  },
  {
   "cell_type": "code",
   "execution_count": null,
   "id": "associate-facing",
   "metadata": {},
   "outputs": [],
   "source": [
    "isingModel.Algorithm = simulator.Algorithms.SCA\n",
    "isingModel.PinningParameter = 0.5e0 * isingModel.CalcLargestEigenvalue()\n",
    "TryExperimentFor(isingModel, T0 + NumNodes * isingModel.PinningParameter)"
   ]
  },
  {
   "cell_type": "code",
   "execution_count": null,
   "id": "nuclear-mills",
   "metadata": {},
   "outputs": [],
   "source": [
    "isingModel.Algorithm = simulator.Algorithms.fcSCA\n",
    "isingModel.PinningParameter = 0.e0\n",
    "isingModel.FlipTrialRate = 0.8e0\n",
    "TryExperimentFor(isingModel, T0 + NumNodes * isingModel.PinningParameter)"
   ]
  },
  {
   "cell_type": "code",
   "execution_count": null,
   "id": "unlimited-dating",
   "metadata": {},
   "outputs": [],
   "source": []
  }
 ],
 "metadata": {
  "kernelspec": {
   "display_name": "Python 3",
   "language": "python",
   "name": "python3"
  },
  "language_info": {
   "codemirror_mode": {
    "name": "ipython",
    "version": 3
   },
   "file_extension": ".py",
   "mimetype": "text/x-python",
   "name": "python",
   "nbconvert_exporter": "python",
   "pygments_lexer": "ipython3",
   "version": "3.9.1"
  }
 },
 "nbformat": 4,
 "nbformat_minor": 5
}
