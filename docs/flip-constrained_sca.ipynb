{
 "cells": [
  {
   "cell_type": "markdown",
   "id": "wrapped-cancellation",
   "metadata": {},
   "source": [
    "# Flip-contrained SCA\n",
    "\n",
    "For SCA dynamics, we plot a sample of the modified Hamiltonian in \"Step-Energy graph\".  For flip-constrained SCA dynamics, we plot a sample of the (original) Hamiltonian in \"Step-Energy graph\"."
   ]
  },
  {
   "cell_type": "code",
   "execution_count": null,
   "id": "fifty-organ",
   "metadata": {},
   "outputs": [],
   "source": [
    "import matplotlib.pyplot as plt\n",
    "import numpy as np\n",
    "from scipy import stats\n",
    "#import sys\n",
    "#sys.path.append('../python')\n",
    "#import simulator\n",
    "import simulatorWithCpp as simulator\n",
    "import math\n",
    "\n",
    "%matplotlib inline\n",
    "np.set_printoptions(threshold=16, edgeitems=8)"
   ]
  },
  {
   "cell_type": "markdown",
   "id": "perfect-zimbabwe",
   "metadata": {},
   "source": [
    "## Annealing"
   ]
  },
  {
   "cell_type": "code",
   "execution_count": null,
   "id": "determined-participant",
   "metadata": {},
   "outputs": [],
   "source": [
    "maxSteps = int(3.e3)\n",
    "MaxTrials = int(1.e2)\n",
    "NumNodes = 256\n",
    "SeedForConfiguration = 1024\n",
    "\n",
    "def MakeUniformConfiguration(numNodes, seed=None):\n",
    "    rng = np.random.default_rng(seed)\n",
    "    return {i: rng.choice([-1, +1]) for i in range(numNodes)}\n",
    "\n",
    "InitialConfiguration = MakeUniformConfiguration(NumNodes, SeedForConfiguration)\n",
    "\n",
    "def TryExperimentFor(isingModel, initialTemperature):\n",
    "    minimumEnergiesData = np.empty(0, dtype=np.float)\n",
    "    samples = np.empty((maxSteps + 1, 4), dtype=np.float)\n",
    "    #isingModel.Write()\n",
    "    for i in range(MaxTrials):\n",
    "        isingModel.Spins = InitialConfiguration\n",
    "        isingModel.SetSeed()\n",
    "        for n in range(maxSteps + 1):\n",
    "            isingModel.Temperature = initialTemperature * 0.99 ** n\n",
    "            #isingModel.Temperature = 100 * np.exp(-0.005 * n)\n",
    "            isingModel.Update()\n",
    "            samples[n, 0] = n\n",
    "            samples[n, 1] = isingModel.Temperature\n",
    "            samples[n, 2] = isingModel.Energy\n",
    "            samples[n, 3] = isingModel.EnergyOnBipartiteGraph\n",
    "        minimumEnergiesData = np.append(minimumEnergiesData, samples[:, 2].min())\n",
    "\n",
    "    print('Mean: {}'.format(np.mean(minimumEnergiesData)))\n",
    "    print('Standard deviation: {}'.format(np.std(minimumEnergiesData)))\n",
    "    print('Mode: {}'.format(stats.mode(minimumEnergiesData)))\n",
    "    print('Minimum: {}'.format(np.min(minimumEnergiesData)))\n",
    "\n",
    "    fig = plt.figure(figsize=(7, 3), dpi=200)\n",
    "    ax = fig.add_subplot(121, xlabel='MC steps', ylabel='Energy')\n",
    "    ax.grid()\n",
    "    ax.plot(samples[:, 0], samples[:, 2], label='Original Hamiltonian')\n",
    "    ax.plot(samples[:, 0], samples[:, 3], label='Double Hamiltonian')\n",
    "    ax.legend()\n",
    "    ax = fig.add_subplot(122, xlabel='Energy', ylabel='Frequency')\n",
    "    ax.grid(which='both')\n",
    "    ax.hist(minimumEnergiesData, bins=30)\n",
    "    fig.suptitle(isingModel.Algorithm.name)\n",
    "    plt.subplots_adjust(wspace=0.3)\n",
    "    plt.show()"
   ]
  },
  {
   "cell_type": "markdown",
   "id": "fresh-meditation",
   "metadata": {},
   "source": [
    "### Square lattice"
   ]
  },
  {
   "cell_type": "code",
   "execution_count": null,
   "id": "general-taylor",
   "metadata": {},
   "outputs": [],
   "source": [
    "def GenerateSquareLatticeEdges(numNodes):\n",
    "    columns = math.ceil(math.sqrt(numNodes))\n",
    "    result = {}\n",
    "    for i in range(numNodes - 1):\n",
    "        if (i + 1) % columns > 0:\n",
    "            result[(i, i + 1)] = -1\n",
    "        if (i + columns) < numNodes:\n",
    "            result[(i, i + columns)] = -1\n",
    "    return result\n",
    "\n",
    "quadratic = GenerateSquareLatticeEdges(NumNodes)\n",
    "isingModel = simulator.IsingModel({}, quadratic)\n",
    "T0 = 2.e0 * np.sum([np.abs(J) for J in quadratic.values()])"
   ]
  },
  {
   "cell_type": "code",
   "execution_count": null,
   "id": "operating-couple",
   "metadata": {},
   "outputs": [],
   "source": [
    "isingModel.Algorithm = simulator.Algorithms.SCA\n",
    "isingModel.PinningParameter = 0.5e0 * isingModel.CalcLargestEigenvalue()\n",
    "TryExperimentFor(isingModel, T0 + NumNodes * isingModel.PinningParameter)"
   ]
  },
  {
   "cell_type": "code",
   "execution_count": null,
   "id": "small-battle",
   "metadata": {},
   "outputs": [],
   "source": [
    "isingModel.Algorithm = simulator.Algorithms.fcSCA\n",
    "isingModel.PinningParameter = 0.125e0 * isingModel.CalcLargestEigenvalue()\n",
    "isingModel.FlipTrialRate = 0.8e0\n",
    "TryExperimentFor(isingModel, T0 + NumNodes * isingModel.PinningParameter)"
   ]
  },
  {
   "cell_type": "markdown",
   "id": "handmade-crisis",
   "metadata": {},
   "source": [
    "### Complete graph"
   ]
  },
  {
   "cell_type": "code",
   "execution_count": null,
   "id": "western-vertical",
   "metadata": {},
   "outputs": [],
   "source": [
    "def GenerateCompleteGraphEdges(numNodes):\n",
    "    return {(i, j): -1 for i in range(numNodes) for j in range(i + 1, numNodes)}\n",
    "\n",
    "quadratic = GenerateCompleteGraphEdges(NumNodes)\n",
    "isingModel = simulator.IsingModel({}, quadratic)\n",
    "T0 = 2.e0 * np.sum([np.abs(J) for J in quadratic.values()])"
   ]
  },
  {
   "cell_type": "code",
   "execution_count": null,
   "id": "worthy-circumstances",
   "metadata": {},
   "outputs": [],
   "source": [
    "isingModel.Algorithm = simulator.Algorithms.SCA\n",
    "isingModel.PinningParameter = 0.5e0 * isingModel.CalcLargestEigenvalue()\n",
    "TryExperimentFor(isingModel, T0 + NumNodes * isingModel.PinningParameter)"
   ]
  },
  {
   "cell_type": "code",
   "execution_count": null,
   "id": "dried-toronto",
   "metadata": {},
   "outputs": [],
   "source": [
    "isingModel.Algorithm = simulator.Algorithms.fcSCA\n",
    "isingModel.PinningParameter = 0.e0\n",
    "isingModel.FlipTrialRate = 0.3e0\n",
    "TryExperimentFor(isingModel, T0 + NumNodes * isingModel.PinningParameter)"
   ]
  },
  {
   "cell_type": "markdown",
   "id": "treated-hands",
   "metadata": {},
   "source": [
    "### Erdős-Rényi random graph"
   ]
  },
  {
   "cell_type": "code",
   "execution_count": null,
   "id": "accessible-activation",
   "metadata": {},
   "outputs": [],
   "source": [
    "OccupationProbability = 0.5e0\n",
    "SeedForRandomGraph = 2048\n",
    "\n",
    "def GenerateErdosRenyiEdges(numNodes, probability):\n",
    "    rng = np.random.Generator(np.random.MT19937(SeedForRandomGraph))\n",
    "    return {(i, j): -1 if rng.random() <= probability else 0 for i in range(numNodes) for j in range(i + 1, numNodes)}\n",
    "\n",
    "quadratic = GenerateErdosRenyiEdges(NumNodes, OccupationProbability)\n",
    "isingModel = simulator.IsingModel({}, quadratic)\n",
    "T0 = 2.e0 * np.sum([np.abs(J) for J in quadratic.values()])"
   ]
  },
  {
   "cell_type": "code",
   "execution_count": null,
   "id": "juvenile-audience",
   "metadata": {},
   "outputs": [],
   "source": [
    "isingModel.Algorithm = simulator.Algorithms.SCA\n",
    "isingModel.PinningParameter = 0.5e0 * isingModel.CalcLargestEigenvalue()\n",
    "TryExperimentFor(isingModel, T0 + NumNodes * isingModel.PinningParameter)"
   ]
  },
  {
   "cell_type": "code",
   "execution_count": null,
   "id": "after-charles",
   "metadata": {},
   "outputs": [],
   "source": [
    "isingModel.Algorithm = simulator.Algorithms.fcSCA\n",
    "isingModel.PinningParameter = 0.e0\n",
    "isingModel.FlipTrialRate = 0.2e0\n",
    "TryExperimentFor(isingModel, T0 + NumNodes * isingModel.PinningParameter)"
   ]
  },
  {
   "cell_type": "markdown",
   "id": "genuine-bargain",
   "metadata": {},
   "source": [
    "## Stationary distribution"
   ]
  },
  {
   "cell_type": "markdown",
   "id": "imposed-burke",
   "metadata": {},
   "source": [
    "## Dynamics for the propotion to spins"
   ]
  },
  {
   "cell_type": "markdown",
   "id": "pharmaceutical-buddy",
   "metadata": {},
   "source": [
    "Consider the antiferromagnet $J_{x, y} = -1$ with $h_x = 0$ and $q_x = 0$ on a complete graph.\n",
    "Taking the low temerature limit,\n",
    "$$\n",
    "    \\lim_{\\beta\\uparrow\\infty} P_\\epsilon(\\sigma, \\tau)\n",
    "    = \\prod_{x\\in D_{\\sigma, \\tau}} \\left(\\epsilon \\left(\\frac{1}{2} \\mathbf{1}_{\\{\\sum_{y\\sim x} \\sigma_x \\sigma_y = 0\\}} + \\mathbf{1}_{\\{\\sum_{y\\sim x} \\sigma_x \\sigma_y > 0\\}}\\right)\\right)\n",
    "        \\prod_{x\\in D_{\\sigma, \\tau}^\\complement} \\left(1 - \\epsilon \\left(\\frac{1}{2} \\mathbf{1}_{\\{\\sum_{y\\sim x} \\sigma_x \\sigma_y = 0\\}} + \\mathbf{1}_{\\{\\sum_{y\\sim x} \\sigma_x \\sigma_y > 0\\}}\\right)\\right).\n",
    "$$\n",
    "Let $a_t$ be the proportion of up spins to all spins.\n",
    "When $\\lvert V\\rvert$ is even, he dynamics of $\\{a_t\\}_{t=0}^{\\infty}$ is given as\n",
    "$$\n",
    "    a_{t+1} = \\begin{cases}\n",
    "        \\epsilon + \\left(1 - \\epsilon\\right) a_t & \\left[0 \\leq a_t < \\frac{1}{2}\\right],\\\\\n",
    "        a_t & \\left[a_t = \\frac{1}{2}\\right],\\\\\n",
    "        \\left(1 - \\epsilon\\right) a_t & \\left[\\frac{1}{2} < a_t \\leq 1\\right].\n",
    "    \\end{cases}\n",
    "$$\n",
    "When $\\lvert V\\rvert$ is odd, he dynamics of $\\{a_t\\}_{t=0}^{\\infty}$ is given as\n",
    "$$\n",
    "    a_{t+1} = \\begin{cases}\n",
    "        \\left(1 - \\frac{\\epsilon}{2}\\right) a_t & \\left[\\frac{1}{2} \\leq a_t \\leq \\frac{1}{2} \\left(1 + \\frac{1}{\\lvert V\\rvert}\\right)\\right],\\\\\n",
    "        \\left(1 - \\epsilon\\right) a_t & \\left[\\frac{1}{2} \\left(1 + \\frac{1}{\\lvert V\\rvert}\\right) < a_t \\leq 1\\right],\\\\\n",
    "        \\frac{\\epsilon}{2} + \\left(1 - \\frac{\\epsilon}{2}\\right) a_t & \\left[\\frac{1}{2} \\left(1 - \\frac{1}{\\lvert V\\rvert}\\right) \\leq a_t < \\frac{1}{2}\\right],\\\\\n",
    "        \\epsilon + \\left(1 - \\epsilon\\right) a_t & \\left[0 \\leq a_t < \\frac{1}{2} \\left(1 - \\frac{1}{\\lvert V\\rvert}\\right)\\right].\n",
    "    \\end{cases}\n",
    "$$"
   ]
  },
  {
   "cell_type": "code",
   "execution_count": null,
   "id": "norman-badge",
   "metadata": {},
   "outputs": [],
   "source": [
    "def spinPropotion(previous, flipTrialRate, cardVertices):\n",
    "    if cardVertices % 2 == 0:\n",
    "        if 0 <= previous < 0.5e0:\n",
    "            return flipTrialRate + (1 - flipTrialRate) * previous\n",
    "        elif previous == 0.5e0:\n",
    "            return previous\n",
    "        elif 0.5e0 < previous <= 1:\n",
    "            return (1 - flipTrialRate) * previous\n",
    "        else:\n",
    "            raise ValueError('The value must be in the interval [0, 1]')\n",
    "    else:\n",
    "        if 0 <= previous < 0.5e0 * (1 - 1 / cardVertices):\n",
    "            return flipTrialRate + (1 - flipTrialRate) * previous\n",
    "        elif 0.5e0 * (1 - 1 / cardVertices) <= previous < 0.5e0:\n",
    "            return 0.5e0 * flipTrialRate + (1 - 0.5e0 * flipTrialRate) * previous\n",
    "        elif 0.5e0 <= previous <= 0.5e0 * (1 + 1 / cardVertices):\n",
    "            return (1 - 0.5e0 * flipTrialRate) * previous\n",
    "        elif 0.5e0 * (1 + 1 / cardVertices) < previous <= 1:\n",
    "            return (1 - flipTrialRate) * previous\n",
    "        else:\n",
    "            raise ValueError('The value must be in the interval [0, 1]')"
   ]
  },
  {
   "cell_type": "markdown",
   "id": "continental-memorabilia",
   "metadata": {},
   "source": [
    "The horizontal axis means initial values $a_0$."
   ]
  },
  {
   "cell_type": "code",
   "execution_count": null,
   "id": "painted-plate",
   "metadata": {},
   "outputs": [],
   "source": [
    "# Fixed points.\n",
    "from itertools import product\n",
    "\n",
    "NumDivision = 100\n",
    "numDivFTR = 5\n",
    "\n",
    "fig = plt.figure(figsize=(numDivFTR * 3 + 2, 7), dpi=100)\n",
    "plt.subplots_adjust(wspace=0.3, hspace=0.3)\n",
    "index = 0\n",
    "for cardVertices, flipTrialRate in product((10, 11), np.linspace(0, 1, numDivFTR)):\n",
    "    # Time evolution\n",
    "    uSpinPropotion = np.frompyfunc(lambda x: spinPropotion(x, flipTrialRate, cardVertices), 1, 1)\n",
    "    x = np.linspace(0, 1, NumDivision)\n",
    "    y = uSpinPropotion(x)\n",
    "    for _ in range(NumDivision):\n",
    "        try:\n",
    "            y = uSpinPropotion(y)\n",
    "        except ValueError:\n",
    "            print(y)\n",
    "            break\n",
    "\n",
    "    # Plotting\n",
    "    index += 1\n",
    "    ax = fig.add_subplot(2, numDivFTR, index)\n",
    "    ax.grid()\n",
    "    ax.plot(x, x, color='gray', linestyle='dashed')\n",
    "    ax.plot(x, uSpinPropotion(x), label='a(1)')\n",
    "    ax.plot(x, y, label='a(t)')\n",
    "    nextY = uSpinPropotion(y)\n",
    "    ax.plot(x, nextY, label='a(t+1)')\n",
    "    ax.set_title('ε={:8.4f}'.format(flipTrialRate) + ', |V|={:d}'.format(cardVertices))\n",
    "    ax.legend()\n",
    "plt.show()"
   ]
  },
  {
   "cell_type": "code",
   "execution_count": null,
   "id": "characteristic-algorithm",
   "metadata": {},
   "outputs": [],
   "source": [
    "%%time\n",
    "# Bifurcation diagram.\n",
    "from functools import reduce\n",
    "\n",
    "NumDivision = 400\n",
    "maxSteps = 200\n",
    "\n",
    "def calcFixedPoints(flipTrialRate, cardVertices):\n",
    "    def inner(initialValue):\n",
    "        result = []\n",
    "        propotion = initialValue\n",
    "        for i in range(maxSteps // 2):\n",
    "            propotion = spinPropotion(propotion, flipTrialRate, cardVertices)\n",
    "        for i in range(maxSteps // 2, maxSteps):\n",
    "            propotion = spinPropotion(propotion, flipTrialRate, cardVertices)\n",
    "            result.append(propotion)\n",
    "        return np.array(result, dtype=np.float)\n",
    "    \n",
    "    fixedPoints = np.empty(0, dtype=np.float)\n",
    "    initialValues = np.linspace(0, 1, NumDivision)\n",
    "    fixedPoints = reduce(np.union1d, np.frompyfunc(inner, 1, 1)(initialValues))\n",
    "    return fixedPoints\n",
    "\n",
    "fig = plt.figure(figsize=(7, 3), dpi=200)\n",
    "plt.subplots_adjust(wspace=0.3)\n",
    "for index, cardVertices in enumerate((10, 11), 1):\n",
    "    # Computation\n",
    "    x = np.linspace(0, 1, NumDivision)\n",
    "    y = np.frompyfunc(lambda r: calcFixedPoints(r, cardVertices), 1, 1)(x)  # This function returns a jagged array.\n",
    "    \n",
    "    # Plotting\n",
    "    ax = fig.add_subplot(1, 2, index)\n",
    "    ax.grid()\n",
    "    ax.set_xlabel('Flip trial rate')\n",
    "    ax.set_ylabel('Fixed point')\n",
    "    ax.set_title('|V|={:d}'.format(cardVertices))\n",
    "    for i in range(x.size):\n",
    "        ax.plot(np.full_like(y[i], x[i]), y[i], ',m')\n",
    "plt.show()"
   ]
  },
  {
   "cell_type": "markdown",
   "id": "supreme-charger",
   "metadata": {},
   "source": [
    "## Antiferromagnet on a complete graph for the low temperature limit"
   ]
  },
  {
   "cell_type": "markdown",
   "id": "annual-questionnaire",
   "metadata": {},
   "source": [
    "The following graphs are the system energies per monte carlo step for $\\lvert V\\rvert = 100$ and each $\\epsilon\\in [0, 1]$."
   ]
  },
  {
   "cell_type": "code",
   "execution_count": null,
   "id": "suspected-greek",
   "metadata": {},
   "outputs": [],
   "source": [
    "def DrawGraphsForAntiferrOnK(numNodes, maxSteps, numDivFTR):\n",
    "    fig = plt.figure(figsize=(numDivFTR // 2 * 3 + 2, 13), dpi=100)\n",
    "    plt.subplots_adjust(wspace=0.3, hspace=0.3)\n",
    "\n",
    "    # Initialization\n",
    "    isingModel = simulator.IsingModel({}, GenerateCompleteGraphEdges(numNodes))\n",
    "    isingModel.Algorithm = simulator.Algorithms.fcSCA\n",
    "    initialTemperature = 2.e0 * np.sum([np.abs(J) for J in quadratic.values()])\n",
    "    initialConfiguration = MakeUniformConfiguration(numNodes)\n",
    "    print('|V|={:d}'.format(numNodes))\n",
    "    print('a(0)={:g}'.format(sum([spin for spin in initialConfiguration.values() if spin == +1]) / numNodes))\n",
    "\n",
    "    for index, flipTrialRate in enumerate(np.linspace(0, 1, numDivFTR), 1):\n",
    "        # Time evolution\n",
    "        samples = np.empty((maxSteps + 1, 3), dtype=np.float)\n",
    "        isingModel.Spins = initialConfiguration\n",
    "        isingModel.FlipTrialRate = flipTrialRate\n",
    "        isingModel.SetSeed()\n",
    "        for n in range(maxSteps + 1):\n",
    "            isingModel.Temperature = initialTemperature * 0.9 ** n\n",
    "            isingModel.Update()\n",
    "            samples[n, 0] = n\n",
    "            samples[n, 1] = isingModel.Energy\n",
    "            samples[n, 2] = sum([spin for spin in isingModel.Spins.values() if spin == +1]) / numNodes\n",
    "\n",
    "        # Plotting\n",
    "        ax = fig.add_subplot(4, numDivFTR // 2, index)\n",
    "        ax.grid()\n",
    "        ax.plot(samples[:, 0], samples[:, 1], label='Original Hamiltonian')\n",
    "        ax.set_title('ε={:8.4f}'.format(flipTrialRate))\n",
    "        ax.legend()\n",
    "        ax = fig.add_subplot(4, numDivFTR // 2, numDivFTR + index)\n",
    "        ax.grid()\n",
    "        ax.plot(samples[:, 0], samples[:, 2], ',r', label='Up spin propotion')\n",
    "        ax.set_title('ε={:8.4f}'.format(flipTrialRate))\n",
    "        ax.legend()\n",
    "    plt.show()"
   ]
  },
  {
   "cell_type": "code",
   "execution_count": null,
   "id": "hazardous-silicon",
   "metadata": {},
   "outputs": [],
   "source": [
    "DrawGraphsForAntiferrOnK(100, 10000, 10)"
   ]
  },
  {
   "cell_type": "markdown",
   "id": "armed-highway",
   "metadata": {},
   "source": [
    "The following graphs are the system energies per monte carlo step for $\\lvert V\\rvert = 101$ and each $\\epsilon\\in [0, 1]$."
   ]
  },
  {
   "cell_type": "code",
   "execution_count": null,
   "id": "sixth-attraction",
   "metadata": {},
   "outputs": [],
   "source": [
    "DrawGraphsForAntiferrOnK(101, 10000, 10)"
   ]
  },
  {
   "cell_type": "code",
   "execution_count": null,
   "id": "spatial-cutting",
   "metadata": {},
   "outputs": [],
   "source": []
  }
 ],
 "metadata": {
  "kernelspec": {
   "display_name": "Python 3",
   "language": "python",
   "name": "python3"
  },
  "language_info": {
   "codemirror_mode": {
    "name": "ipython",
    "version": 3
   },
   "file_extension": ".py",
   "mimetype": "text/x-python",
   "name": "python",
   "nbconvert_exporter": "python",
   "pygments_lexer": "ipython3",
   "version": "3.9.2"
  }
 },
 "nbformat": 4,
 "nbformat_minor": 5
}
