{
 "cells": [
  {
   "cell_type": "markdown",
   "id": "requested-happiness",
   "metadata": {},
   "source": [
    "# Modified momentum annealing\n",
    "\n",
    "- Let $\\varGamma_x\\sim\\mathrm{Exponential}(1)$ for each $x\\in V$ and $T = 1 / \\beta$.  We regard $\\sigma$ as the current spin configuration and $\\tau$ as the next spin configuration in the MCMC updating.  Then, the algorithm is represented by\n",
    "$$\n",
    "    \\DeclareMathOperator{\\sgn}{sgn}\n",
    "    \\tau_x = \\sgn\\left(\\tilde h_x(\\sigma) + q_x\\sigma_x - T\\varGamma_x\\sigma_x\\right).\n",
    "$$"
   ]
  },
  {
   "cell_type": "markdown",
   "id": "reverse-display",
   "metadata": {},
   "source": [
    "## Annealing"
   ]
  },
  {
   "cell_type": "code",
   "execution_count": null,
   "id": "absent-karma",
   "metadata": {},
   "outputs": [],
   "source": [
    "import matplotlib.pyplot as plt\n",
    "import numpy as np\n",
    "from scipy import stats\n",
    "#import sys\n",
    "#sys.path.append('../python')\n",
    "#import simulator\n",
    "import simulatorWithCpp as simulator\n",
    "import math\n",
    "\n",
    "%matplotlib inline\n",
    "np.set_printoptions(threshold=16, edgeitems=8)"
   ]
  },
  {
   "cell_type": "code",
   "execution_count": null,
   "id": "aggregate-mixer",
   "metadata": {},
   "outputs": [],
   "source": [
    "MaxSteps = int(1.e3)\n",
    "MaxTrials = int(1.e2)\n",
    "NumNodes = 64\n",
    "SeedForConfiguration = 1024"
   ]
  },
  {
   "cell_type": "code",
   "execution_count": null,
   "id": "designed-columbia",
   "metadata": {},
   "outputs": [],
   "source": [
    "isingModel = simulator.IsingModel({node: 0.e0 for node in range(NumNodes)}, {})\n",
    "isingModel.SetSeed(SeedForConfiguration)\n",
    "isingModel.GiveSpins(simulator.ConfigurationsType.Uniform)\n",
    "InitialConfiguration = isingModel.Spins\n",
    "\n",
    "def TryExperimentFor(isingModel, initialTemperature):\n",
    "    minimumEnergiesData = np.empty(0, dtype=np.float)\n",
    "    samples = np.empty((MaxSteps + 1, 4), dtype=np.float)\n",
    "    #isingModel.Write()\n",
    "    for i in range(MaxTrials):\n",
    "        isingModel.Spins = InitialConfiguration\n",
    "        isingModel.SetSeed()\n",
    "        for n in range(MaxSteps + 1):\n",
    "            isingModel.Temperature = initialTemperature * 0.99 ** n\n",
    "            #isingModel.Temperature = 100 * np.exp(-0.005 * n)\n",
    "            isingModel.Update()\n",
    "            samples[n, 0] = n\n",
    "            samples[n, 1] = isingModel.Temperature\n",
    "            samples[n, 2] = isingModel.Energy\n",
    "            samples[n, 3] = isingModel.EnergyOnBipartiteGraph\n",
    "        minimumEnergiesData = np.append(minimumEnergiesData, samples[:, 2].min())\n",
    "\n",
    "    print('Mean: {}'.format(np.mean(minimumEnergiesData)))\n",
    "    print('Standard deviation: {}'.format(np.std(minimumEnergiesData)))\n",
    "    print('Mode: {}'.format(stats.mode(minimumEnergiesData)))\n",
    "    print('Minimum: {}'.format(np.min(minimumEnergiesData)))\n",
    "\n",
    "    fig = plt.figure(figsize=(7, 3), dpi=200)\n",
    "    ax = fig.add_subplot(121, xlabel='MC steps', ylabel='Energy')\n",
    "    ax.grid()\n",
    "    ax.plot(samples[:, 0], samples[:, 2], label='Original Hamiltonian')\n",
    "    ax.plot(samples[:, 0], samples[:, 3], label='Double Hamiltonian')\n",
    "    ax.legend()\n",
    "    ax = fig.add_subplot(122, xlabel='Energy', ylabel='Frequency')\n",
    "    ax.grid(which='both')\n",
    "    ax.hist(minimumEnergiesData, bins=30)\n",
    "    fig.suptitle(isingModel.Algorithm.name)\n",
    "    plt.subplots_adjust(wspace=0.3)\n",
    "    plt.show()"
   ]
  },
  {
   "cell_type": "code",
   "execution_count": null,
   "id": "short-notification",
   "metadata": {},
   "outputs": [],
   "source": [
    "def GenerateSquareLatticeEdges(numNodes):\n",
    "    columns = math.ceil(math.sqrt(numNodes))\n",
    "    result = {}\n",
    "    for i in range(numNodes - 1):\n",
    "        if (i + 1) % columns > 0:\n",
    "            result[(i, i + 1)] = -1\n",
    "        if (i + columns) < numNodes:\n",
    "            result[(i, i + columns)] = -1\n",
    "    return result\n",
    "\n",
    "quadratic = GenerateSquareLatticeEdges(NumNodes)\n",
    "isingModel = simulator.IsingModel({}, quadratic)\n",
    "T0 = 2.e0 * np.sum([np.abs(J) for J in quadratic.values()])"
   ]
  },
  {
   "cell_type": "code",
   "execution_count": null,
   "id": "fancy-newman",
   "metadata": {},
   "outputs": [],
   "source": [
    "isingModel.Algorithm = simulator.Algorithms.MA\n",
    "isingModel.PinningParameter = 0.5e0 * isingModel.CalcLargestEigenvalue()\n",
    "TryExperimentFor(isingModel, T0 + NumNodes * isingModel.PinningParameter)"
   ]
  },
  {
   "cell_type": "code",
   "execution_count": null,
   "id": "confident-september",
   "metadata": {},
   "outputs": [],
   "source": [
    "isingModel.Algorithm = simulator.Algorithms.MMA\n",
    "isingModel.PinningParameter = isingModel.CalcLargestEigenvalue()\n",
    "TryExperimentFor(isingModel, T0 + NumNodes * isingModel.PinningParameter)"
   ]
  },
  {
   "cell_type": "code",
   "execution_count": null,
   "id": "little-participation",
   "metadata": {},
   "outputs": [],
   "source": [
    "def GenerateCompleteGraphEdges(numNodes):\n",
    "    return {(i, j): -1 for i in range(numNodes) for j in range(i + 1, numNodes)}\n",
    "\n",
    "quadratic = GenerateCompleteGraphEdges(NumNodes)\n",
    "isingModel = simulator.IsingModel({}, quadratic)\n",
    "T0 = 2.e0 * np.sum([np.abs(J) for J in quadratic.values()])"
   ]
  },
  {
   "cell_type": "code",
   "execution_count": null,
   "id": "bottom-production",
   "metadata": {},
   "outputs": [],
   "source": [
    "isingModel.Algorithm = simulator.Algorithms.MA\n",
    "isingModel.PinningParameter = 0.5e0 * isingModel.CalcLargestEigenvalue()\n",
    "TryExperimentFor(isingModel, T0 + NumNodes * isingModel.PinningParameter)"
   ]
  },
  {
   "cell_type": "code",
   "execution_count": null,
   "id": "southern-dinner",
   "metadata": {},
   "outputs": [],
   "source": [
    "isingModel.Algorithm = simulator.Algorithms.MMA\n",
    "isingModel.PinningParameter = isingModel.CalcLargestEigenvalue()\n",
    "TryExperimentFor(isingModel, T0 + NumNodes * isingModel.PinningParameter)"
   ]
  },
  {
   "cell_type": "code",
   "execution_count": null,
   "id": "wooden-terminal",
   "metadata": {},
   "outputs": [],
   "source": [
    "OccupationProbability = 0.5e0\n",
    "SeedForRandomGraph = 2048\n",
    "\n",
    "def GenerateErdosRenyiEdges(numNodes, probability):\n",
    "    rng = np.random.Generator(np.random.MT19937(SeedForRandomGraph))\n",
    "    return {(i, j): -1 if rng.random() <= probability else 0 for i in range(numNodes) for j in range(i + 1, numNodes)}\n",
    "\n",
    "quadratic = GenerateErdosRenyiEdges(NumNodes, OccupationProbability)\n",
    "isingModel = simulator.IsingModel({}, quadratic)\n",
    "T0 = 2.e0 * np.sum([np.abs(J) for J in quadratic.values()])"
   ]
  },
  {
   "cell_type": "code",
   "execution_count": null,
   "id": "facial-offering",
   "metadata": {},
   "outputs": [],
   "source": [
    "isingModel.Algorithm = simulator.Algorithms.MA\n",
    "isingModel.PinningParameter = 0.5e0 * isingModel.CalcLargestEigenvalue()\n",
    "TryExperimentFor(isingModel, T0 + NumNodes * isingModel.PinningParameter)"
   ]
  },
  {
   "cell_type": "code",
   "execution_count": null,
   "id": "noted-whale",
   "metadata": {},
   "outputs": [],
   "source": [
    "isingModel.Algorithm = simulator.Algorithms.MMA\n",
    "isingModel.PinningParameter = isingModel.CalcLargestEigenvalue()\n",
    "TryExperimentFor(isingModel, T0 + NumNodes * isingModel.PinningParameter)"
   ]
  }
 ],
 "metadata": {
  "kernelspec": {
   "display_name": "Python 3",
   "language": "python",
   "name": "python3"
  },
  "language_info": {
   "codemirror_mode": {
    "name": "ipython",
    "version": 3
   },
   "file_extension": ".py",
   "mimetype": "text/x-python",
   "name": "python",
   "nbconvert_exporter": "python",
   "pygments_lexer": "ipython3",
   "version": "3.9.2"
  }
 },
 "nbformat": 4,
 "nbformat_minor": 5
}
